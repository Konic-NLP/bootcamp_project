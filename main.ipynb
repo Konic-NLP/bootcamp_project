{
 "cells": [
  {
   "cell_type": "code",
   "execution_count": 1,
   "metadata": {},
   "outputs": [],
   "source": [
    "import json\n",
    "#load the json file for the source file\n",
    "with open('xpo_v5.3.json','r') as f:\n",
    "    parsed_j=json.load(f)"
   ]
  },
  {
   "cell_type": "code",
   "execution_count": 2,
   "metadata": {},
   "outputs": [],
   "source": [
    "import re"
   ]
  },
  {
   "cell_type": "code",
   "execution_count": 3,
   "metadata": {},
   "outputs": [],
   "source": [
    "def get_arg_name(args):\n",
    "    '''\n",
    "    remove the middle part, like 'A0_ppt_buried_entity'  to \"A0_buried_entity\" for more readable\n",
    "    '''\n",
    "    if args.startswith('AM'):  # AM is a kind of exception, so just keep the original format \n",
    "        arg=args\n",
    "    else:\n",
    "        strings=args.split('_')\n",
    "        arg=strings[0]+'_'+'_'.join(strings[2:])# remove the second part after spliting by underscore\n",
    "    return arg"
   ]
  },
  {
   "cell_type": "code",
   "execution_count": 9,
   "metadata": {},
   "outputs": [],
   "source": [
    "import pandas as pd\n",
    "# pattern files , which offer the preposition for each arguments\n",
    "prep=pd.read_excel(\"dwd templates for json (version 1) (1).xlsx\",header=None,engine='openpyxl')"
   ]
  },
  {
   "cell_type": "code",
   "execution_count": 5,
   "metadata": {},
   "outputs": [
    {
     "data": {
      "text/plain": [
       "['with ', '']"
      ]
     },
     "execution_count": 5,
     "metadata": {},
     "output_type": "execute_result"
    }
   ],
   "source": [
    "re.split('<.*?>','with <instrument or means>')"
   ]
  },
  {
   "cell_type": "code",
   "execution_count": 6,
   "metadata": {},
   "outputs": [],
   "source": [
    "def remove_arg(pd): # original format  with A2 , format to with\n",
    "    if '<' in pd[1]:\n",
    "        pd[1]=re.split('<.*?>',pd[1])[0]\n",
    "    else:\n",
    "        pd[1]=pd[1].split()[0]\n",
    "    \n",
    "    return pd"
   ]
  },
  {
   "cell_type": "code",
   "execution_count": 57,
   "metadata": {},
   "outputs": [
    {
     "name": "stdout",
     "output_type": "stream",
     "text": [
      "A1_com with\n",
      "A1_loc_path preposition\n",
      "A1_loc_direction preposition\n",
      "A2_mnr with\n",
      "AM_loc at\n",
      "A2_gol_listener to\n",
      "A2_gol_hearer to\n",
      "A2_gol_recipient to\n",
      "A2_gol_destination to\n",
      "A2_gol_appealed_to to\n",
      "A2_gol_target at\n",
      "A2_gol_benef for\n",
      "A2_gol_entity_provided_for for\n",
      "A2_gol_co-agent with\n",
      "A2_gol_victim against\n",
      "A2_ppt PREPOSITION\n",
      "A2_vsp PREPOSITION\n",
      "A2_com with\n",
      "A2_dir from\n",
      "A2_tmp until\n",
      "A2_ext (by)\n",
      "A2_prd_end_state into\n",
      "A2_prd_product into\n",
      "A2_prd_secondary_attribute as\n",
      "A2_prd_attribute as\n",
      "A2_prd_for_what for\n",
      "A2_prd_blessed_with with\n",
      "A2_prd_mislead_into into\n",
      "A2_prd_into_pieces into\n",
      "A2_prd_value at\n",
      "A2_prd (PREPOSITION)\n",
      "A2_cau_cause_or_disease with\n",
      "A2_cau_protected_from from\n",
      "A2_cau_secondary_attribute as\n",
      "A2_cau_fighting_about about\n",
      "A2_cau_topic_or_cause_of_fighting about\n",
      "A2_cau for\n",
      "A2_adj for\n",
      "A3_prd_attribute as\n",
      "A3_prd_secondary_attribute as\n",
      "A3_prd_end_state into\n",
      "A3_prd_product into\n",
      "A3_prd_attributive on\n",
      "A3_prd PREPOSITION\n",
      "A3_mnr with\n",
      "A3_gol_electorate_for_whom_arg0_is_a_proxy_voter A3\n",
      "A3_gol_listener to\n",
      "A3_gol_recipient to\n",
      "A3_gol_destination to\n",
      "A3_gol_benef for\n",
      "A3_gol_displayed_to to\n",
      "A3_gol_filed_against against\n",
      "A3_gol_new_level to\n",
      "A3_gol_product into\n",
      "A3_gol_entity_defended_against against\n",
      "A3_gol_potential_buyer for\n",
      "A3_gol_hearer to\n",
      "A3_gol to\n",
      "A3_vsp (PREPOSITION)\n",
      "A3_com with/against\n",
      "A3_dir from\n",
      "A3_tmp at\n",
      "A3_cau__on_what_grounds by/on\n",
      "A3_cau_commodity (PREPOSITION)\n",
      "A3_cau for\n",
      "A3_adv A3\n",
      "A4_tmp for\n",
      "A4_gol_benef for\n",
      "A4_gol_end to\n",
      "A4_prp_purpose for/to\n",
      "A4_gol_high_point to\n",
      "A4_gol_destination to\n",
      "A4_gol_new to\n",
      "A4_gol for\n",
      "A4_prd_end to\n",
      "A4_prd_attribute/purpose_of_arg1 to/for\n",
      "A4_prd_divided_into into\n",
      "A4_mnr with\n",
      "A5_mnr_instrument with\n",
      "A5_ext with\n",
      "A5_tmp_itinerary for\n",
      "A2_gol to\n"
     ]
    }
   ],
   "source": [
    "for k,v in dict_prep.items():\n",
    "    print(k,v)"
   ]
  },
  {
   "cell_type": "code",
   "execution_count": 22,
   "metadata": {},
   "outputs": [
    {
     "data": {
      "text/html": [
       "<div>\n",
       "<style scoped>\n",
       "    .dataframe tbody tr th:only-of-type {\n",
       "        vertical-align: middle;\n",
       "    }\n",
       "\n",
       "    .dataframe tbody tr th {\n",
       "        vertical-align: top;\n",
       "    }\n",
       "\n",
       "    .dataframe thead th {\n",
       "        text-align: right;\n",
       "    }\n",
       "</style>\n",
       "<table border=\"1\" class=\"dataframe\">\n",
       "  <thead>\n",
       "    <tr style=\"text-align: right;\">\n",
       "      <th></th>\n",
       "      <th>0</th>\n",
       "      <th>1</th>\n",
       "    </tr>\n",
       "  </thead>\n",
       "  <tbody>\n",
       "    <tr>\n",
       "      <th>0</th>\n",
       "      <td>A1_com</td>\n",
       "      <td>with</td>\n",
       "    </tr>\n",
       "    <tr>\n",
       "      <th>1</th>\n",
       "      <td>A1_loc_path</td>\n",
       "      <td>preposition</td>\n",
       "    </tr>\n",
       "    <tr>\n",
       "      <th>2</th>\n",
       "      <td>A1_loc_direction</td>\n",
       "      <td>preposition</td>\n",
       "    </tr>\n",
       "    <tr>\n",
       "      <th>3</th>\n",
       "      <td>A2_mnr</td>\n",
       "      <td>with</td>\n",
       "    </tr>\n",
       "    <tr>\n",
       "      <th>4</th>\n",
       "      <td>AM_loc</td>\n",
       "      <td>at</td>\n",
       "    </tr>\n",
       "  </tbody>\n",
       "</table>\n",
       "</div>"
      ],
      "text/plain": [
       "                  0            1\n",
       "0            A1_com         with\n",
       "1       A1_loc_path  preposition\n",
       "2  A1_loc_direction  preposition\n",
       "3            A2_mnr        with \n",
       "4            AM_loc           at"
      ]
     },
     "execution_count": 22,
     "metadata": {},
     "output_type": "execute_result"
    }
   ],
   "source": [
    "prep.head() # look the first sevreral rows"
   ]
  },
  {
   "cell_type": "code",
   "execution_count": 7,
   "metadata": {},
   "outputs": [],
   "source": [
    "new_prep=prep.apply(remove_arg,axis=1)# apply the function to each row"
   ]
  },
  {
   "cell_type": "code",
   "execution_count": 8,
   "metadata": {},
   "outputs": [],
   "source": [
    "dict_prep=dict(zip(new_prep.iloc[:,0],new_prep.iloc[:,1]))  # convert the argument and the corresponding preposition to a dict"
   ]
  },
  {
   "cell_type": "code",
   "execution_count": 52,
   "metadata": {},
   "outputs": [],
   "source": [
    "import requests\n",
    "from bs4 import BeautifulSoup\n",
    "count=0 # id for the rows\n",
    "error=[]\n",
    "events=parsed_j['events'] # from the json file get the events\n",
    "df=pd.DataFrame(columns=('qnode_id','event_type','template','no_propbank','no_verb','has_A5'))  # create a bew dataframe for creating the csv\n",
    "for qnode,event in events.items():# iterate the events\n",
    "    marked=''\n",
    "    template=''\n",
    "    no_prob=False\n",
    "    no_verb=3\n",
    "    # print(qnode,event['name'],':',end='')\n",
    "\n",
    "    event_type=event['name']\n",
    "    arguments=event['arguments']\n",
    "    left_args=[]\n",
    "    verbs= event['name']  # determine the verb for each events\n",
    "    if 'pb_roleset' in event.keys():\n",
    "        # print(event['name'])\n",
    "        url='https://verbs.colorado.edu/propbank-development/'+event['pb_roleset'].split('.')[0]+'.html'\n",
    "        # print(url)\n",
    "        # headers = {'User-Agent': 'Mozilla/5.0 (Windows NT 6.1; WOW64) AppleWebKit/537.36 (KHTML, like Gecko) Chrome/64.0.3282.119 Safari/537.36'}\n",
    "        html=requests.get(url)\n",
    "        if str(html)=='<Response [404]>':\n",
    "            url='https://verbs.colorado.edu/propbank-development/'+'alias-'+event['pb_roleset'].split('.')[0]+'.html'\n",
    "            try:\n",
    "                 html=requests.get(url)\n",
    "            except:\n",
    "                error.append(qnode)\n",
    "        soup=BeautifulSoup(html.text)\n",
    "        try:\n",
    "            all_alias=soup.body.find_all(\"div\", {\"class\": \"wrapper\"})[0].find_all('div',{'class':'content'})[0].find_all('div',{'class':'sticky-content'})[0].h4.find_next_siblings()[0].select('span')\n",
    "        except:\n",
    "            error.append(qnode)\n",
    "        no_verb=2\n",
    "        for alias in all_alias:\n",
    "            imatch_pos=re.search('\\((.*)\\)',alias.text)\n",
    "            if imatch_pos.group(1)=='v.':\n",
    "                verbs=alias.text.strip('(v.)')\n",
    "                no_verb=1  \n",
    "                break\n",
    "    else:\n",
    "        no_prob=True\n",
    "            # if imatch_pos:\n",
    "            #     print(imatch_pos.group[1])\n",
    "    if len(arguments)==1:  # for events just have one arguments\n",
    "        template= f\"<{get_arg_name(arguments[0]['name'])}> {verbs}\" \n",
    "    else:# for others, just look up the prepositions and concatenate with the argument name\n",
    "        template=''\n",
    "        if arguments[1]['name'] in dict_prep :\n",
    "            arg1=f\"{dict_prep[arguments[1]['name']]} <{get_arg_name(arguments[1]['name'])}>\"\n",
    "        elif arguments[1]['short_name'] in dict_prep:\n",
    "            arg1=f\"{dict_prep[arguments[1]['short_name']]} <{get_arg_name(arguments[1]['name'])}>\"\n",
    "        else:\n",
    "            arg1=f\"<{get_arg_name(arguments[1]['name'])}>\"\n",
    "        template+=f\"<{get_arg_name(arguments[0]['name'])}> {verbs} {arg1}\"\n",
    "        for i, argument in enumerate(arguments[2:]):\n",
    "            if argument['name'] in dict_prep:\n",
    "                template+= f\" {dict_prep[argument['name']]} <{get_arg_name(argument['name'])}>\"\n",
    "            elif argument['short_name'] in dict_prep:\n",
    "                  template+=f\" {dict_prep[argument['short_name']]} <{get_arg_name(argument['name'])}>\"\n",
    "            else:\n",
    "                template +=f\" <{get_arg_name(argument['name'])}>\"\n",
    "            if argument['short_name'].startswith('A5'):  # for some reasons, to mark the events has more than 5 arguments \n",
    "                marked=1\n",
    "  \n",
    "    df.loc[count]={'qnode_id':qnode,'event_type':event_type,'template':template,\"no_propbank\":1 if no_prob is True else '','no_verb':1 if no_verb ==2 else '','has_A5':1 if marked==1 else ''} # insert the row to the dataframe\n",
    "\n",
    "    # print(\"*\"*22)\n",
    "    count+=1\n",
    "   "
   ]
  },
  {
   "cell_type": "code",
   "execution_count": 53,
   "metadata": {},
   "outputs": [
    {
     "name": "stdout",
     "output_type": "stream",
     "text": [
      "DWD_Q873506\n"
     ]
    }
   ],
   "source": [
    "for err in error:\n",
    "    print(err)"
   ]
  },
  {
   "cell_type": "code",
   "execution_count": 54,
   "metadata": {},
   "outputs": [
    {
     "data": {
      "text/html": [
       "<div>\n",
       "<style scoped>\n",
       "    .dataframe tbody tr th:only-of-type {\n",
       "        vertical-align: middle;\n",
       "    }\n",
       "\n",
       "    .dataframe tbody tr th {\n",
       "        vertical-align: top;\n",
       "    }\n",
       "\n",
       "    .dataframe thead th {\n",
       "        text-align: right;\n",
       "    }\n",
       "</style>\n",
       "<table border=\"1\" class=\"dataframe\">\n",
       "  <thead>\n",
       "    <tr style=\"text-align: right;\">\n",
       "      <th></th>\n",
       "      <th>qnode_id</th>\n",
       "      <th>event_type</th>\n",
       "      <th>template</th>\n",
       "      <th>no_propbank</th>\n",
       "      <th>no_verb</th>\n",
       "      <th>has_A5</th>\n",
       "    </tr>\n",
       "  </thead>\n",
       "  <tbody>\n",
       "    <tr>\n",
       "      <th>0</th>\n",
       "      <td>DWD_Q7216866</td>\n",
       "      <td>post</td>\n",
       "      <td>&lt;A0_transmitter&gt; post &lt;A1_message&gt; to &lt;A2_audi...</td>\n",
       "      <td>1</td>\n",
       "      <td></td>\n",
       "      <td></td>\n",
       "    </tr>\n",
       "    <tr>\n",
       "      <th>1</th>\n",
       "      <td>DWD_Q56119332</td>\n",
       "      <td>tweet</td>\n",
       "      <td>&lt;A0_transmitter&gt; tweet &lt;A1_message&gt; to &lt;A2_aud...</td>\n",
       "      <td>1</td>\n",
       "      <td></td>\n",
       "      <td></td>\n",
       "    </tr>\n",
       "    <tr>\n",
       "      <th>2</th>\n",
       "      <td>DWD_Q34394</td>\n",
       "      <td>belief</td>\n",
       "      <td>&lt;A0_believer&gt; believe  &lt;A1_believed&gt; PREPOSITI...</td>\n",
       "      <td></td>\n",
       "      <td></td>\n",
       "      <td></td>\n",
       "    </tr>\n",
       "    <tr>\n",
       "      <th>3</th>\n",
       "      <td>DWD_Q190084</td>\n",
       "      <td>hoax</td>\n",
       "      <td>&lt;A0_hoaxer&gt; hoax  &lt;A1_target&gt; (PREPOSITION) &lt;A...</td>\n",
       "      <td></td>\n",
       "      <td></td>\n",
       "      <td></td>\n",
       "    </tr>\n",
       "    <tr>\n",
       "      <th>4</th>\n",
       "      <td>DWD_Q34302</td>\n",
       "      <td>doubt</td>\n",
       "      <td>&lt;A0_disbeliever&gt; doubt  &lt;A1_disbelief&gt;</td>\n",
       "      <td></td>\n",
       "      <td></td>\n",
       "      <td></td>\n",
       "    </tr>\n",
       "  </tbody>\n",
       "</table>\n",
       "</div>"
      ],
      "text/plain": [
       "        qnode_id event_type  \\\n",
       "0   DWD_Q7216866       post   \n",
       "1  DWD_Q56119332      tweet   \n",
       "2     DWD_Q34394     belief   \n",
       "3    DWD_Q190084       hoax   \n",
       "4     DWD_Q34302      doubt   \n",
       "\n",
       "                                            template no_propbank no_verb  \\\n",
       "0  <A0_transmitter> post <A1_message> to <A2_audi...           1           \n",
       "1  <A0_transmitter> tweet <A1_message> to <A2_aud...           1           \n",
       "2  <A0_believer> believe  <A1_believed> PREPOSITI...                       \n",
       "3  <A0_hoaxer> hoax  <A1_target> (PREPOSITION) <A...                       \n",
       "4             <A0_disbeliever> doubt  <A1_disbelief>                       \n",
       "\n",
       "  has_A5  \n",
       "0         \n",
       "1         \n",
       "2         \n",
       "3         \n",
       "4         "
      ]
     },
     "execution_count": 54,
     "metadata": {},
     "output_type": "execute_result"
    }
   ],
   "source": [
    "df.head()# peek the dataframe"
   ]
  },
  {
   "cell_type": "code",
   "execution_count": 55,
   "metadata": {},
   "outputs": [],
   "source": [
    "df.to_csv('template_info.csv')  # save as csv"
   ]
  },
  {
   "cell_type": "code",
   "execution_count": 5,
   "metadata": {},
   "outputs": [],
   "source": [
    "from collections import defaultdict\n",
    "count=0\n",
    "passive=0\n",
    "passive_name=[]\n",
    "events=parsed_j['events'] # from the json file get the events\n",
    "AM_dict=defaultdict(int)\n",
    "num_arguments=defaultdict(int)\n",
    "for qnode,event in events.items():# iterate the events\n",
    "\n",
    "    event_type=event['name']\n",
    "    arguments=event['arguments']\n",
    "    if arguments[0]['name'].startswith('A1'):\n",
    "        passive+=1\n",
    "        passive_name.append(event_type)\n",
    "    count+=1\n",
    "    num_arguments[len([args for args in arguments if not args['short_name'].startswith('AM')])]+=1\n",
    "    for i,j in enumerate(arguments):\n",
    "        if j['short_name'].startswith('AM'):\n",
    "            AM_dict[j['name']]+=1\n",
    "\n"
   ]
  },
  {
   "cell_type": "code",
   "execution_count": 13,
   "metadata": {},
   "outputs": [
    {
     "data": {
      "text/plain": [
       "4706"
      ]
     },
     "execution_count": 13,
     "metadata": {},
     "output_type": "execute_result"
    }
   ],
   "source": [
    "count"
   ]
  },
  {
   "cell_type": "code",
   "execution_count": 12,
   "metadata": {},
   "outputs": [
    {
     "name": "stdout",
     "output_type": "stream",
     "text": [
      "the passive events is 7.20 %\n",
      "the passive events are :\n",
      "scarcity, disease_outbreak, conflagration, merger, mutation, natural_causes, death, disease, symptom, health_problem, abdominal_distention, abdominal_exercise, abdominal_symptom, acarodermatitis, accidental_death, acropustulosis, actinomycosis, adverse_event, affair, aftershock, air_current, air_current, airflow, airprox, alcoholism, animal_disease, animalisation, ankyloglossia, annual_event, anticyclone, apparition, approach, arthropod_dermatitis, associated_diseases, asthenia, astronomical_phenomenon, astronomical_transit, asymmetry, atmospheric_phenomenon, atrophy, attenuation, avalanche, backpacking, bacterial_myositis, banking_crisis, beginning, binge-eating_disorder, biogeochemical_process, blizzard, blood_flow, bond, budding, bushfire, cardiac_fibrillation, carnaval_parade, cavalcade, cell_death, chance, charity_event, chills, circulatory_collapse, clear-air_turbulence, cloudburst, cognitive_disorder, coincidence, cold_wave, coma, come, concretization, condition, contracted_pupil, cool, craniofacial_disease, crisis, crosswind, current, current, cyclic_process, cyclone, decompression_illness, dedifferentiation, default, default, default, deprecation, depreciation, dermatozoonosis, descent, development, developmental_process, digestive_sign, dilated_pupil, disaster, disestablishment, disparity, dive, dust_devil, dust_storm, dying, earthquake, eating_disorder, economic_crisis, economic_loss, eddy, electric_current, emergency, emotional_state, end, endemic_disease, endurance_sport, engagement, enuresis, environmental_disaster, epidemic, epileptic_seizure, event, evolution, excess, extraction, eye_disease, eye_symptom, fad, fall, fasciculation, fault, fever, fire_whirl, fizzle, flame, flash_flood, flaw, flicker, flow, flowering, fluid_flow, fluorescence, focal_seizure, food-related_disease, foreshock, fork, free_fall, gain, gale, general_symptom, genetic_disease, genodermatosis, geyser, hailstorm, haze, heart_arrhythmia, heart_rate, heat_illness, heat_stroke, heat_wave, hematologic_disorder, hematoma, hereditary_disorder, high_fever, holiday, host-pathogen_interaction, hurricane, hyperthermia, hypnosis, hypotension, hypothetical_event, hypoxia, ice_storm, immune_disorder, immunodeficiency-related_disorder, impact, infectious_myositis, intimacy, intracranial_thrombosis, jaundice, jet_stream, key_event, kidney_disease, landfall, landslide, leprosy, lesion, lip, lying, maculopathy, maelstrom, malaise, malnutrition, media_event, menstrual_cycle, mental_state, mental_state, metastasis, meteor, meteorological_phenomenon, milestone, miracle, moisture, monsoon, mood_disorders, mouth_disease, mudslide, multi-organism_process, mycetoma, myositis, natural_phenomenon, near_miss, necrosis, neoplasm, neurobehavioral_manifestation, neurological_symptom, nocardiosis, noise, nudity, nutrition_disorder, obstructive_nephropathy, occultation, occupational_burnout, ocean_current, oil_spill, optical_aberration, organ-specific_disease, orgasm, out, pandemic, parade, parasomnia, perceptual_disorders, personal_development, phenomenon, physical_state, physiological_condition, physiological_phenomena, physiological_process, political_symbolism, polymyositis, polyuria, presence, process, progress, proximity, psychological_phenomenon, psychological_process, psychopathological_symptom, psychopathological_syndrome, psychosexual_disorder, public_nudity, pupil_disorder, pupil_symptom, pyomyositis, rare_disease, recession, recklessness, recurring_event, religious_ceremony, resonance, retinal_degeneration, retinal_disease, rockslide, round, ruminal_tympany, scientific_event, screen_flicker, season, secondary_neoplasm, seizure, sexual_disorder, shock, shortage, silliness, simultaneity, sirocco, situation, sleep_disorder, sleepwalking, slip, software_bug, solstice, somatosensory_disorder, spasm, spontaneous_process, squall, stagnation, state, stomatognathic_disease, stomatomycosis, storm, stroke, substance-related_disorder, suggestion, suicide_crisis, symbolism, syndrome, systemic_disease, systemic_mycosis, tachycardia, takeoff, tear_secretion, thought_disorder, thromboembolism, tidal_wave, tide, tongue_disease, tornado, tragedy, train_wreck, tremor, trend, tropical_cyclone, tsunami, tuberculosis, tumor, turbulence, tympanites, unconsciousness, unintended_consequences, unnatural_death, urinary_incontinence, urological_symptom, use_status, vector-borne_disease, venous_thrombosis, ventricular_dysrhythmia, ventricular_dyssynchrony, ventricular_fibrillation, vision_disorder, visual_artifact, volcanic_eruption, volcanic_phenomenon, vortex, weather, well, whirlpool, wildfire, winter_storm, yersiniosis, yield, zoonosis, waiting, drought, "
     ]
    }
   ],
   "source": [
    "print(f\"the passive events is {(passive/count)*100:.2f} %\")\n",
    "print(f\"the passive events are :\")\n",
    "for i in passive_name:\n",
    "    print(i, end=', ')"
   ]
  },
  {
   "cell_type": "code",
   "execution_count": 14,
   "metadata": {},
   "outputs": [
    {
     "name": "stdout",
     "output_type": "stream",
     "text": [
      "loc 4677\n",
      "mnr__manner 39\n",
      "dir_direction 10\n",
      "cau__cause 9\n",
      "loc_medium 9\n",
      "loc_Medium 6\n",
      "tmp_point_at_which_something_ends 5\n",
      "gol__goal 4\n",
      "dir__directional 3\n",
      "mnr_instrument 2\n",
      "loc_direction_or_location 2\n",
      "loc_location_of_meeting 2\n",
      "tmp_time_of_meeting 2\n",
      "com__comitative 1\n",
      "loc_domain_of_competition 1\n",
      "loc_direction 1\n",
      "dir_path_or_medium 1\n",
      "tmp_period_of_time_waited_through 1\n"
     ]
    }
   ],
   "source": [
    "for k,v in sorted(AM_dict.items(),key=lambda x:x[1],reverse=True):\n",
    "    print(k.lstrip('AM_'),v)"
   ]
  },
  {
   "cell_type": "code",
   "execution_count": 84,
   "metadata": {},
   "outputs": [
    {
     "name": "stdout",
     "output_type": "stream",
     "text": [
      "3 2061\n",
      "2 1550\n",
      "4 764\n",
      "5 184\n",
      "1 122\n",
      "6 25\n"
     ]
    }
   ],
   "source": [
    "\n",
    "for k,v in sorted(num_arguments.items(),key=lambda x:x[1],reverse=True):\n",
    "    print(k,v)"
   ]
  },
  {
   "cell_type": "code",
   "execution_count": 15,
   "metadata": {},
   "outputs": [],
   "source": [
    "import plotly.graph_objects as go\n",
    "import plotly.express as px"
   ]
  },
  {
   "cell_type": "code",
   "execution_count": 16,
   "metadata": {},
   "outputs": [],
   "source": [
    "def plot_graph(tdict, title,x_name,y_name):\n",
    "    # Create a figure we will add our chart to\n",
    "    fig = go.Figure()\n",
    "\n",
    "    # Add a bar chart to the figur\n",
    "    fig.add_trace(go.Bar(x = [i for i in tdict.keys()],                                # x-axis data\n",
    "                         y = [i for i in tdict.values()],                                # y-axis data\n",
    "                         text=[str(i) for i in tdict.values()],                               # Textual data displayed above each bar\n",
    "                         textposition='outside',                            # Location of 'text'\n",
    "                         orientation='v',                                   # We want veritcle bars, and 'h' would give us horizontal bars\n",
    "                        )\n",
    "                 )\n",
    "\n",
    "    fig.update_layout(title=f'<b>{title} Analysis</b>',                     # Title of figure/chart\n",
    "                      width = 1400,                                         # Width of figure\n",
    "                      height = 800,                                         # Height of figure\n",
    "                      xaxis_title=f\"<b>{x_name}</b>\",                          # x-axis label\n",
    "                      yaxis_title=f\"<b>{y_name}</b>\",    # y-axis label\n",
    "                      font=dict(family=\"Arial\",                             # dict. specifing font details\n",
    "                                size=16,\n",
    "                            )\n",
    "                     )\n",
    "\n",
    "    fig.show()          "
   ]
  },
  {
   "cell_type": "code",
   "execution_count": 18,
   "metadata": {},
   "outputs": [
    {
     "data": {
      "application/vnd.plotly.v1+json": {
       "config": {
        "plotlyServerURL": "https://plot.ly"
       },
       "data": [
        {
         "orientation": "v",
         "text": [
          "764",
          "2061",
          "1550",
          "122",
          "184",
          "25"
         ],
         "textposition": "outside",
         "type": "bar",
         "x": [
          4,
          3,
          2,
          1,
          5,
          6
         ],
         "y": [
          764,
          2061,
          1550,
          122,
          184,
          25
         ]
        }
       ],
       "layout": {
        "font": {
         "family": "Arial",
         "size": 16
        },
        "height": 800,
        "template": {
         "data": {
          "bar": [
           {
            "error_x": {
             "color": "#2a3f5f"
            },
            "error_y": {
             "color": "#2a3f5f"
            },
            "marker": {
             "line": {
              "color": "#E5ECF6",
              "width": 0.5
             },
             "pattern": {
              "fillmode": "overlay",
              "size": 10,
              "solidity": 0.2
             }
            },
            "type": "bar"
           }
          ],
          "barpolar": [
           {
            "marker": {
             "line": {
              "color": "#E5ECF6",
              "width": 0.5
             },
             "pattern": {
              "fillmode": "overlay",
              "size": 10,
              "solidity": 0.2
             }
            },
            "type": "barpolar"
           }
          ],
          "carpet": [
           {
            "aaxis": {
             "endlinecolor": "#2a3f5f",
             "gridcolor": "white",
             "linecolor": "white",
             "minorgridcolor": "white",
             "startlinecolor": "#2a3f5f"
            },
            "baxis": {
             "endlinecolor": "#2a3f5f",
             "gridcolor": "white",
             "linecolor": "white",
             "minorgridcolor": "white",
             "startlinecolor": "#2a3f5f"
            },
            "type": "carpet"
           }
          ],
          "choropleth": [
           {
            "colorbar": {
             "outlinewidth": 0,
             "ticks": ""
            },
            "type": "choropleth"
           }
          ],
          "contour": [
           {
            "colorbar": {
             "outlinewidth": 0,
             "ticks": ""
            },
            "colorscale": [
             [
              0,
              "#0d0887"
             ],
             [
              0.1111111111111111,
              "#46039f"
             ],
             [
              0.2222222222222222,
              "#7201a8"
             ],
             [
              0.3333333333333333,
              "#9c179e"
             ],
             [
              0.4444444444444444,
              "#bd3786"
             ],
             [
              0.5555555555555556,
              "#d8576b"
             ],
             [
              0.6666666666666666,
              "#ed7953"
             ],
             [
              0.7777777777777778,
              "#fb9f3a"
             ],
             [
              0.8888888888888888,
              "#fdca26"
             ],
             [
              1,
              "#f0f921"
             ]
            ],
            "type": "contour"
           }
          ],
          "contourcarpet": [
           {
            "colorbar": {
             "outlinewidth": 0,
             "ticks": ""
            },
            "type": "contourcarpet"
           }
          ],
          "heatmap": [
           {
            "colorbar": {
             "outlinewidth": 0,
             "ticks": ""
            },
            "colorscale": [
             [
              0,
              "#0d0887"
             ],
             [
              0.1111111111111111,
              "#46039f"
             ],
             [
              0.2222222222222222,
              "#7201a8"
             ],
             [
              0.3333333333333333,
              "#9c179e"
             ],
             [
              0.4444444444444444,
              "#bd3786"
             ],
             [
              0.5555555555555556,
              "#d8576b"
             ],
             [
              0.6666666666666666,
              "#ed7953"
             ],
             [
              0.7777777777777778,
              "#fb9f3a"
             ],
             [
              0.8888888888888888,
              "#fdca26"
             ],
             [
              1,
              "#f0f921"
             ]
            ],
            "type": "heatmap"
           }
          ],
          "heatmapgl": [
           {
            "colorbar": {
             "outlinewidth": 0,
             "ticks": ""
            },
            "colorscale": [
             [
              0,
              "#0d0887"
             ],
             [
              0.1111111111111111,
              "#46039f"
             ],
             [
              0.2222222222222222,
              "#7201a8"
             ],
             [
              0.3333333333333333,
              "#9c179e"
             ],
             [
              0.4444444444444444,
              "#bd3786"
             ],
             [
              0.5555555555555556,
              "#d8576b"
             ],
             [
              0.6666666666666666,
              "#ed7953"
             ],
             [
              0.7777777777777778,
              "#fb9f3a"
             ],
             [
              0.8888888888888888,
              "#fdca26"
             ],
             [
              1,
              "#f0f921"
             ]
            ],
            "type": "heatmapgl"
           }
          ],
          "histogram": [
           {
            "marker": {
             "pattern": {
              "fillmode": "overlay",
              "size": 10,
              "solidity": 0.2
             }
            },
            "type": "histogram"
           }
          ],
          "histogram2d": [
           {
            "colorbar": {
             "outlinewidth": 0,
             "ticks": ""
            },
            "colorscale": [
             [
              0,
              "#0d0887"
             ],
             [
              0.1111111111111111,
              "#46039f"
             ],
             [
              0.2222222222222222,
              "#7201a8"
             ],
             [
              0.3333333333333333,
              "#9c179e"
             ],
             [
              0.4444444444444444,
              "#bd3786"
             ],
             [
              0.5555555555555556,
              "#d8576b"
             ],
             [
              0.6666666666666666,
              "#ed7953"
             ],
             [
              0.7777777777777778,
              "#fb9f3a"
             ],
             [
              0.8888888888888888,
              "#fdca26"
             ],
             [
              1,
              "#f0f921"
             ]
            ],
            "type": "histogram2d"
           }
          ],
          "histogram2dcontour": [
           {
            "colorbar": {
             "outlinewidth": 0,
             "ticks": ""
            },
            "colorscale": [
             [
              0,
              "#0d0887"
             ],
             [
              0.1111111111111111,
              "#46039f"
             ],
             [
              0.2222222222222222,
              "#7201a8"
             ],
             [
              0.3333333333333333,
              "#9c179e"
             ],
             [
              0.4444444444444444,
              "#bd3786"
             ],
             [
              0.5555555555555556,
              "#d8576b"
             ],
             [
              0.6666666666666666,
              "#ed7953"
             ],
             [
              0.7777777777777778,
              "#fb9f3a"
             ],
             [
              0.8888888888888888,
              "#fdca26"
             ],
             [
              1,
              "#f0f921"
             ]
            ],
            "type": "histogram2dcontour"
           }
          ],
          "mesh3d": [
           {
            "colorbar": {
             "outlinewidth": 0,
             "ticks": ""
            },
            "type": "mesh3d"
           }
          ],
          "parcoords": [
           {
            "line": {
             "colorbar": {
              "outlinewidth": 0,
              "ticks": ""
             }
            },
            "type": "parcoords"
           }
          ],
          "pie": [
           {
            "automargin": true,
            "type": "pie"
           }
          ],
          "scatter": [
           {
            "fillpattern": {
             "fillmode": "overlay",
             "size": 10,
             "solidity": 0.2
            },
            "type": "scatter"
           }
          ],
          "scatter3d": [
           {
            "line": {
             "colorbar": {
              "outlinewidth": 0,
              "ticks": ""
             }
            },
            "marker": {
             "colorbar": {
              "outlinewidth": 0,
              "ticks": ""
             }
            },
            "type": "scatter3d"
           }
          ],
          "scattercarpet": [
           {
            "marker": {
             "colorbar": {
              "outlinewidth": 0,
              "ticks": ""
             }
            },
            "type": "scattercarpet"
           }
          ],
          "scattergeo": [
           {
            "marker": {
             "colorbar": {
              "outlinewidth": 0,
              "ticks": ""
             }
            },
            "type": "scattergeo"
           }
          ],
          "scattergl": [
           {
            "marker": {
             "colorbar": {
              "outlinewidth": 0,
              "ticks": ""
             }
            },
            "type": "scattergl"
           }
          ],
          "scattermapbox": [
           {
            "marker": {
             "colorbar": {
              "outlinewidth": 0,
              "ticks": ""
             }
            },
            "type": "scattermapbox"
           }
          ],
          "scatterpolar": [
           {
            "marker": {
             "colorbar": {
              "outlinewidth": 0,
              "ticks": ""
             }
            },
            "type": "scatterpolar"
           }
          ],
          "scatterpolargl": [
           {
            "marker": {
             "colorbar": {
              "outlinewidth": 0,
              "ticks": ""
             }
            },
            "type": "scatterpolargl"
           }
          ],
          "scatterternary": [
           {
            "marker": {
             "colorbar": {
              "outlinewidth": 0,
              "ticks": ""
             }
            },
            "type": "scatterternary"
           }
          ],
          "surface": [
           {
            "colorbar": {
             "outlinewidth": 0,
             "ticks": ""
            },
            "colorscale": [
             [
              0,
              "#0d0887"
             ],
             [
              0.1111111111111111,
              "#46039f"
             ],
             [
              0.2222222222222222,
              "#7201a8"
             ],
             [
              0.3333333333333333,
              "#9c179e"
             ],
             [
              0.4444444444444444,
              "#bd3786"
             ],
             [
              0.5555555555555556,
              "#d8576b"
             ],
             [
              0.6666666666666666,
              "#ed7953"
             ],
             [
              0.7777777777777778,
              "#fb9f3a"
             ],
             [
              0.8888888888888888,
              "#fdca26"
             ],
             [
              1,
              "#f0f921"
             ]
            ],
            "type": "surface"
           }
          ],
          "table": [
           {
            "cells": {
             "fill": {
              "color": "#EBF0F8"
             },
             "line": {
              "color": "white"
             }
            },
            "header": {
             "fill": {
              "color": "#C8D4E3"
             },
             "line": {
              "color": "white"
             }
            },
            "type": "table"
           }
          ]
         },
         "layout": {
          "annotationdefaults": {
           "arrowcolor": "#2a3f5f",
           "arrowhead": 0,
           "arrowwidth": 1
          },
          "autotypenumbers": "strict",
          "coloraxis": {
           "colorbar": {
            "outlinewidth": 0,
            "ticks": ""
           }
          },
          "colorscale": {
           "diverging": [
            [
             0,
             "#8e0152"
            ],
            [
             0.1,
             "#c51b7d"
            ],
            [
             0.2,
             "#de77ae"
            ],
            [
             0.3,
             "#f1b6da"
            ],
            [
             0.4,
             "#fde0ef"
            ],
            [
             0.5,
             "#f7f7f7"
            ],
            [
             0.6,
             "#e6f5d0"
            ],
            [
             0.7,
             "#b8e186"
            ],
            [
             0.8,
             "#7fbc41"
            ],
            [
             0.9,
             "#4d9221"
            ],
            [
             1,
             "#276419"
            ]
           ],
           "sequential": [
            [
             0,
             "#0d0887"
            ],
            [
             0.1111111111111111,
             "#46039f"
            ],
            [
             0.2222222222222222,
             "#7201a8"
            ],
            [
             0.3333333333333333,
             "#9c179e"
            ],
            [
             0.4444444444444444,
             "#bd3786"
            ],
            [
             0.5555555555555556,
             "#d8576b"
            ],
            [
             0.6666666666666666,
             "#ed7953"
            ],
            [
             0.7777777777777778,
             "#fb9f3a"
            ],
            [
             0.8888888888888888,
             "#fdca26"
            ],
            [
             1,
             "#f0f921"
            ]
           ],
           "sequentialminus": [
            [
             0,
             "#0d0887"
            ],
            [
             0.1111111111111111,
             "#46039f"
            ],
            [
             0.2222222222222222,
             "#7201a8"
            ],
            [
             0.3333333333333333,
             "#9c179e"
            ],
            [
             0.4444444444444444,
             "#bd3786"
            ],
            [
             0.5555555555555556,
             "#d8576b"
            ],
            [
             0.6666666666666666,
             "#ed7953"
            ],
            [
             0.7777777777777778,
             "#fb9f3a"
            ],
            [
             0.8888888888888888,
             "#fdca26"
            ],
            [
             1,
             "#f0f921"
            ]
           ]
          },
          "colorway": [
           "#636efa",
           "#EF553B",
           "#00cc96",
           "#ab63fa",
           "#FFA15A",
           "#19d3f3",
           "#FF6692",
           "#B6E880",
           "#FF97FF",
           "#FECB52"
          ],
          "font": {
           "color": "#2a3f5f"
          },
          "geo": {
           "bgcolor": "white",
           "lakecolor": "white",
           "landcolor": "#E5ECF6",
           "showlakes": true,
           "showland": true,
           "subunitcolor": "white"
          },
          "hoverlabel": {
           "align": "left"
          },
          "hovermode": "closest",
          "mapbox": {
           "style": "light"
          },
          "paper_bgcolor": "white",
          "plot_bgcolor": "#E5ECF6",
          "polar": {
           "angularaxis": {
            "gridcolor": "white",
            "linecolor": "white",
            "ticks": ""
           },
           "bgcolor": "#E5ECF6",
           "radialaxis": {
            "gridcolor": "white",
            "linecolor": "white",
            "ticks": ""
           }
          },
          "scene": {
           "xaxis": {
            "backgroundcolor": "#E5ECF6",
            "gridcolor": "white",
            "gridwidth": 2,
            "linecolor": "white",
            "showbackground": true,
            "ticks": "",
            "zerolinecolor": "white"
           },
           "yaxis": {
            "backgroundcolor": "#E5ECF6",
            "gridcolor": "white",
            "gridwidth": 2,
            "linecolor": "white",
            "showbackground": true,
            "ticks": "",
            "zerolinecolor": "white"
           },
           "zaxis": {
            "backgroundcolor": "#E5ECF6",
            "gridcolor": "white",
            "gridwidth": 2,
            "linecolor": "white",
            "showbackground": true,
            "ticks": "",
            "zerolinecolor": "white"
           }
          },
          "shapedefaults": {
           "line": {
            "color": "#2a3f5f"
           }
          },
          "ternary": {
           "aaxis": {
            "gridcolor": "white",
            "linecolor": "white",
            "ticks": ""
           },
           "baxis": {
            "gridcolor": "white",
            "linecolor": "white",
            "ticks": ""
           },
           "bgcolor": "#E5ECF6",
           "caxis": {
            "gridcolor": "white",
            "linecolor": "white",
            "ticks": ""
           }
          },
          "title": {
           "x": 0.05
          },
          "xaxis": {
           "automargin": true,
           "gridcolor": "white",
           "linecolor": "white",
           "ticks": "",
           "title": {
            "standoff": 15
           },
           "zerolinecolor": "white",
           "zerolinewidth": 2
          },
          "yaxis": {
           "automargin": true,
           "gridcolor": "white",
           "linecolor": "white",
           "ticks": "",
           "title": {
            "standoff": 15
           },
           "zerolinecolor": "white",
           "zerolinewidth": 2
          }
         }
        },
        "title": {
         "text": "<b>distribution of the umber of arguments for each events Analysis</b>"
        },
        "width": 1400,
        "xaxis": {
         "title": {
          "text": "<b>number of arguments</b>"
         }
        },
        "yaxis": {
         "title": {
          "text": "<b>number of events</b>"
         }
        }
       }
      }
     },
     "metadata": {},
     "output_type": "display_data"
    }
   ],
   "source": [
    "plot_graph(num_arguments,'distribution of the umber of arguments for each events','number of arguments','number of events')"
   ]
  },
  {
   "cell_type": "code",
   "execution_count": 17,
   "metadata": {},
   "outputs": [
    {
     "data": {
      "application/vnd.plotly.v1+json": {
       "config": {
        "plotlyServerURL": "https://plot.ly"
       },
       "data": [
        {
         "orientation": "v",
         "text": [
          "4677",
          "39",
          "4",
          "1",
          "9",
          "3",
          "6",
          "2",
          "10",
          "2",
          "9",
          "5",
          "2",
          "2",
          "1",
          "1",
          "1",
          "1"
         ],
         "textposition": "outside",
         "type": "bar",
         "x": [
          "AM_loc",
          "AM_mnr__manner",
          "AM_gol__goal",
          "AM_com__comitative",
          "AM_cau__cause",
          "AM_dir__directional",
          "AM_loc_Medium",
          "AM_mnr_instrument",
          "AM_dir_direction",
          "AM_loc_direction_or_location",
          "AM_loc_medium",
          "AM_tmp_point_at_which_something_ends",
          "AM_loc_location_of_meeting",
          "AM_tmp_time_of_meeting",
          "AM_loc_domain_of_competition",
          "AM_loc_direction",
          "AM_dir_path_or_medium",
          "AM_tmp_period_of_time_waited_through"
         ],
         "y": [
          4677,
          39,
          4,
          1,
          9,
          3,
          6,
          2,
          10,
          2,
          9,
          5,
          2,
          2,
          1,
          1,
          1,
          1
         ]
        }
       ],
       "layout": {
        "font": {
         "family": "Arial",
         "size": 16
        },
        "height": 800,
        "template": {
         "data": {
          "bar": [
           {
            "error_x": {
             "color": "#2a3f5f"
            },
            "error_y": {
             "color": "#2a3f5f"
            },
            "marker": {
             "line": {
              "color": "#E5ECF6",
              "width": 0.5
             },
             "pattern": {
              "fillmode": "overlay",
              "size": 10,
              "solidity": 0.2
             }
            },
            "type": "bar"
           }
          ],
          "barpolar": [
           {
            "marker": {
             "line": {
              "color": "#E5ECF6",
              "width": 0.5
             },
             "pattern": {
              "fillmode": "overlay",
              "size": 10,
              "solidity": 0.2
             }
            },
            "type": "barpolar"
           }
          ],
          "carpet": [
           {
            "aaxis": {
             "endlinecolor": "#2a3f5f",
             "gridcolor": "white",
             "linecolor": "white",
             "minorgridcolor": "white",
             "startlinecolor": "#2a3f5f"
            },
            "baxis": {
             "endlinecolor": "#2a3f5f",
             "gridcolor": "white",
             "linecolor": "white",
             "minorgridcolor": "white",
             "startlinecolor": "#2a3f5f"
            },
            "type": "carpet"
           }
          ],
          "choropleth": [
           {
            "colorbar": {
             "outlinewidth": 0,
             "ticks": ""
            },
            "type": "choropleth"
           }
          ],
          "contour": [
           {
            "colorbar": {
             "outlinewidth": 0,
             "ticks": ""
            },
            "colorscale": [
             [
              0,
              "#0d0887"
             ],
             [
              0.1111111111111111,
              "#46039f"
             ],
             [
              0.2222222222222222,
              "#7201a8"
             ],
             [
              0.3333333333333333,
              "#9c179e"
             ],
             [
              0.4444444444444444,
              "#bd3786"
             ],
             [
              0.5555555555555556,
              "#d8576b"
             ],
             [
              0.6666666666666666,
              "#ed7953"
             ],
             [
              0.7777777777777778,
              "#fb9f3a"
             ],
             [
              0.8888888888888888,
              "#fdca26"
             ],
             [
              1,
              "#f0f921"
             ]
            ],
            "type": "contour"
           }
          ],
          "contourcarpet": [
           {
            "colorbar": {
             "outlinewidth": 0,
             "ticks": ""
            },
            "type": "contourcarpet"
           }
          ],
          "heatmap": [
           {
            "colorbar": {
             "outlinewidth": 0,
             "ticks": ""
            },
            "colorscale": [
             [
              0,
              "#0d0887"
             ],
             [
              0.1111111111111111,
              "#46039f"
             ],
             [
              0.2222222222222222,
              "#7201a8"
             ],
             [
              0.3333333333333333,
              "#9c179e"
             ],
             [
              0.4444444444444444,
              "#bd3786"
             ],
             [
              0.5555555555555556,
              "#d8576b"
             ],
             [
              0.6666666666666666,
              "#ed7953"
             ],
             [
              0.7777777777777778,
              "#fb9f3a"
             ],
             [
              0.8888888888888888,
              "#fdca26"
             ],
             [
              1,
              "#f0f921"
             ]
            ],
            "type": "heatmap"
           }
          ],
          "heatmapgl": [
           {
            "colorbar": {
             "outlinewidth": 0,
             "ticks": ""
            },
            "colorscale": [
             [
              0,
              "#0d0887"
             ],
             [
              0.1111111111111111,
              "#46039f"
             ],
             [
              0.2222222222222222,
              "#7201a8"
             ],
             [
              0.3333333333333333,
              "#9c179e"
             ],
             [
              0.4444444444444444,
              "#bd3786"
             ],
             [
              0.5555555555555556,
              "#d8576b"
             ],
             [
              0.6666666666666666,
              "#ed7953"
             ],
             [
              0.7777777777777778,
              "#fb9f3a"
             ],
             [
              0.8888888888888888,
              "#fdca26"
             ],
             [
              1,
              "#f0f921"
             ]
            ],
            "type": "heatmapgl"
           }
          ],
          "histogram": [
           {
            "marker": {
             "pattern": {
              "fillmode": "overlay",
              "size": 10,
              "solidity": 0.2
             }
            },
            "type": "histogram"
           }
          ],
          "histogram2d": [
           {
            "colorbar": {
             "outlinewidth": 0,
             "ticks": ""
            },
            "colorscale": [
             [
              0,
              "#0d0887"
             ],
             [
              0.1111111111111111,
              "#46039f"
             ],
             [
              0.2222222222222222,
              "#7201a8"
             ],
             [
              0.3333333333333333,
              "#9c179e"
             ],
             [
              0.4444444444444444,
              "#bd3786"
             ],
             [
              0.5555555555555556,
              "#d8576b"
             ],
             [
              0.6666666666666666,
              "#ed7953"
             ],
             [
              0.7777777777777778,
              "#fb9f3a"
             ],
             [
              0.8888888888888888,
              "#fdca26"
             ],
             [
              1,
              "#f0f921"
             ]
            ],
            "type": "histogram2d"
           }
          ],
          "histogram2dcontour": [
           {
            "colorbar": {
             "outlinewidth": 0,
             "ticks": ""
            },
            "colorscale": [
             [
              0,
              "#0d0887"
             ],
             [
              0.1111111111111111,
              "#46039f"
             ],
             [
              0.2222222222222222,
              "#7201a8"
             ],
             [
              0.3333333333333333,
              "#9c179e"
             ],
             [
              0.4444444444444444,
              "#bd3786"
             ],
             [
              0.5555555555555556,
              "#d8576b"
             ],
             [
              0.6666666666666666,
              "#ed7953"
             ],
             [
              0.7777777777777778,
              "#fb9f3a"
             ],
             [
              0.8888888888888888,
              "#fdca26"
             ],
             [
              1,
              "#f0f921"
             ]
            ],
            "type": "histogram2dcontour"
           }
          ],
          "mesh3d": [
           {
            "colorbar": {
             "outlinewidth": 0,
             "ticks": ""
            },
            "type": "mesh3d"
           }
          ],
          "parcoords": [
           {
            "line": {
             "colorbar": {
              "outlinewidth": 0,
              "ticks": ""
             }
            },
            "type": "parcoords"
           }
          ],
          "pie": [
           {
            "automargin": true,
            "type": "pie"
           }
          ],
          "scatter": [
           {
            "fillpattern": {
             "fillmode": "overlay",
             "size": 10,
             "solidity": 0.2
            },
            "type": "scatter"
           }
          ],
          "scatter3d": [
           {
            "line": {
             "colorbar": {
              "outlinewidth": 0,
              "ticks": ""
             }
            },
            "marker": {
             "colorbar": {
              "outlinewidth": 0,
              "ticks": ""
             }
            },
            "type": "scatter3d"
           }
          ],
          "scattercarpet": [
           {
            "marker": {
             "colorbar": {
              "outlinewidth": 0,
              "ticks": ""
             }
            },
            "type": "scattercarpet"
           }
          ],
          "scattergeo": [
           {
            "marker": {
             "colorbar": {
              "outlinewidth": 0,
              "ticks": ""
             }
            },
            "type": "scattergeo"
           }
          ],
          "scattergl": [
           {
            "marker": {
             "colorbar": {
              "outlinewidth": 0,
              "ticks": ""
             }
            },
            "type": "scattergl"
           }
          ],
          "scattermapbox": [
           {
            "marker": {
             "colorbar": {
              "outlinewidth": 0,
              "ticks": ""
             }
            },
            "type": "scattermapbox"
           }
          ],
          "scatterpolar": [
           {
            "marker": {
             "colorbar": {
              "outlinewidth": 0,
              "ticks": ""
             }
            },
            "type": "scatterpolar"
           }
          ],
          "scatterpolargl": [
           {
            "marker": {
             "colorbar": {
              "outlinewidth": 0,
              "ticks": ""
             }
            },
            "type": "scatterpolargl"
           }
          ],
          "scatterternary": [
           {
            "marker": {
             "colorbar": {
              "outlinewidth": 0,
              "ticks": ""
             }
            },
            "type": "scatterternary"
           }
          ],
          "surface": [
           {
            "colorbar": {
             "outlinewidth": 0,
             "ticks": ""
            },
            "colorscale": [
             [
              0,
              "#0d0887"
             ],
             [
              0.1111111111111111,
              "#46039f"
             ],
             [
              0.2222222222222222,
              "#7201a8"
             ],
             [
              0.3333333333333333,
              "#9c179e"
             ],
             [
              0.4444444444444444,
              "#bd3786"
             ],
             [
              0.5555555555555556,
              "#d8576b"
             ],
             [
              0.6666666666666666,
              "#ed7953"
             ],
             [
              0.7777777777777778,
              "#fb9f3a"
             ],
             [
              0.8888888888888888,
              "#fdca26"
             ],
             [
              1,
              "#f0f921"
             ]
            ],
            "type": "surface"
           }
          ],
          "table": [
           {
            "cells": {
             "fill": {
              "color": "#EBF0F8"
             },
             "line": {
              "color": "white"
             }
            },
            "header": {
             "fill": {
              "color": "#C8D4E3"
             },
             "line": {
              "color": "white"
             }
            },
            "type": "table"
           }
          ]
         },
         "layout": {
          "annotationdefaults": {
           "arrowcolor": "#2a3f5f",
           "arrowhead": 0,
           "arrowwidth": 1
          },
          "autotypenumbers": "strict",
          "coloraxis": {
           "colorbar": {
            "outlinewidth": 0,
            "ticks": ""
           }
          },
          "colorscale": {
           "diverging": [
            [
             0,
             "#8e0152"
            ],
            [
             0.1,
             "#c51b7d"
            ],
            [
             0.2,
             "#de77ae"
            ],
            [
             0.3,
             "#f1b6da"
            ],
            [
             0.4,
             "#fde0ef"
            ],
            [
             0.5,
             "#f7f7f7"
            ],
            [
             0.6,
             "#e6f5d0"
            ],
            [
             0.7,
             "#b8e186"
            ],
            [
             0.8,
             "#7fbc41"
            ],
            [
             0.9,
             "#4d9221"
            ],
            [
             1,
             "#276419"
            ]
           ],
           "sequential": [
            [
             0,
             "#0d0887"
            ],
            [
             0.1111111111111111,
             "#46039f"
            ],
            [
             0.2222222222222222,
             "#7201a8"
            ],
            [
             0.3333333333333333,
             "#9c179e"
            ],
            [
             0.4444444444444444,
             "#bd3786"
            ],
            [
             0.5555555555555556,
             "#d8576b"
            ],
            [
             0.6666666666666666,
             "#ed7953"
            ],
            [
             0.7777777777777778,
             "#fb9f3a"
            ],
            [
             0.8888888888888888,
             "#fdca26"
            ],
            [
             1,
             "#f0f921"
            ]
           ],
           "sequentialminus": [
            [
             0,
             "#0d0887"
            ],
            [
             0.1111111111111111,
             "#46039f"
            ],
            [
             0.2222222222222222,
             "#7201a8"
            ],
            [
             0.3333333333333333,
             "#9c179e"
            ],
            [
             0.4444444444444444,
             "#bd3786"
            ],
            [
             0.5555555555555556,
             "#d8576b"
            ],
            [
             0.6666666666666666,
             "#ed7953"
            ],
            [
             0.7777777777777778,
             "#fb9f3a"
            ],
            [
             0.8888888888888888,
             "#fdca26"
            ],
            [
             1,
             "#f0f921"
            ]
           ]
          },
          "colorway": [
           "#636efa",
           "#EF553B",
           "#00cc96",
           "#ab63fa",
           "#FFA15A",
           "#19d3f3",
           "#FF6692",
           "#B6E880",
           "#FF97FF",
           "#FECB52"
          ],
          "font": {
           "color": "#2a3f5f"
          },
          "geo": {
           "bgcolor": "white",
           "lakecolor": "white",
           "landcolor": "#E5ECF6",
           "showlakes": true,
           "showland": true,
           "subunitcolor": "white"
          },
          "hoverlabel": {
           "align": "left"
          },
          "hovermode": "closest",
          "mapbox": {
           "style": "light"
          },
          "paper_bgcolor": "white",
          "plot_bgcolor": "#E5ECF6",
          "polar": {
           "angularaxis": {
            "gridcolor": "white",
            "linecolor": "white",
            "ticks": ""
           },
           "bgcolor": "#E5ECF6",
           "radialaxis": {
            "gridcolor": "white",
            "linecolor": "white",
            "ticks": ""
           }
          },
          "scene": {
           "xaxis": {
            "backgroundcolor": "#E5ECF6",
            "gridcolor": "white",
            "gridwidth": 2,
            "linecolor": "white",
            "showbackground": true,
            "ticks": "",
            "zerolinecolor": "white"
           },
           "yaxis": {
            "backgroundcolor": "#E5ECF6",
            "gridcolor": "white",
            "gridwidth": 2,
            "linecolor": "white",
            "showbackground": true,
            "ticks": "",
            "zerolinecolor": "white"
           },
           "zaxis": {
            "backgroundcolor": "#E5ECF6",
            "gridcolor": "white",
            "gridwidth": 2,
            "linecolor": "white",
            "showbackground": true,
            "ticks": "",
            "zerolinecolor": "white"
           }
          },
          "shapedefaults": {
           "line": {
            "color": "#2a3f5f"
           }
          },
          "ternary": {
           "aaxis": {
            "gridcolor": "white",
            "linecolor": "white",
            "ticks": ""
           },
           "baxis": {
            "gridcolor": "white",
            "linecolor": "white",
            "ticks": ""
           },
           "bgcolor": "#E5ECF6",
           "caxis": {
            "gridcolor": "white",
            "linecolor": "white",
            "ticks": ""
           }
          },
          "title": {
           "x": 0.05
          },
          "xaxis": {
           "automargin": true,
           "gridcolor": "white",
           "linecolor": "white",
           "ticks": "",
           "title": {
            "standoff": 15
           },
           "zerolinecolor": "white",
           "zerolinewidth": 2
          },
          "yaxis": {
           "automargin": true,
           "gridcolor": "white",
           "linecolor": "white",
           "ticks": "",
           "title": {
            "standoff": 15
           },
           "zerolinecolor": "white",
           "zerolinewidth": 2
          }
         }
        },
        "title": {
         "text": "<b>distribution of the umber of non-core arguments Analysis</b>"
        },
        "width": 1400,
        "xaxis": {
         "title": {
          "text": "<b>type-of non-core arguments</b>"
         }
        },
        "yaxis": {
         "title": {
          "text": "<b>number of events</b>"
         }
        }
       }
      }
     },
     "metadata": {},
     "output_type": "display_data"
    }
   ],
   "source": [
    "plot_graph(AM_dict,'distribution of the umber of non-core arguments','type-of non-core arguments','number of events')"
   ]
  }
 ],
 "metadata": {
  "kernelspec": {
   "display_name": "Python 3",
   "language": "python",
   "name": "python3"
  },
  "language_info": {
   "codemirror_mode": {
    "name": "ipython",
    "version": 3
   },
   "file_extension": ".py",
   "mimetype": "text/x-python",
   "name": "python",
   "nbconvert_exporter": "python",
   "pygments_lexer": "ipython3",
   "version": "3.7.8 (tags/v3.7.8:4b47a5b6ba, Jun 28 2020, 08:53:46) [MSC v.1916 64 bit (AMD64)]"
  },
  "orig_nbformat": 4,
  "vscode": {
   "interpreter": {
    "hash": "2469a70536e4d2335a2ea8907942d0699c37342a371ac185bdb5b0aa6f073890"
   }
  }
 },
 "nbformat": 4,
 "nbformat_minor": 2
}
