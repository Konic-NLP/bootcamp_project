{
 "cells": [
  {
   "cell_type": "code",
   "execution_count": 1,
   "metadata": {},
   "outputs": [],
   "source": [
    "import json\n",
    "#load the json file for the source file\n",
    "with open('xpo_v5.3.json','r') as f:\n",
    "    parsed_j=json.load(f)"
   ]
  },
  {
   "cell_type": "code",
   "execution_count": 2,
   "metadata": {},
   "outputs": [],
   "source": [
    "def get_arg_name(args):\n",
    "    '''\n",
    "    remove the middle part, like 'A0_ppt_buried_entity'  to \"A0_buried_entity\" for more readable\n",
    "    '''\n",
    "    if args.startswith('AM'):  # AM is a kind of exception, so just keep the original format \n",
    "        arg=args\n",
    "    else:\n",
    "        strings=args.split('_')\n",
    "        arg=strings[0]+'_'+'_'.join(strings[2:])# remove the second part after spliting by underscore\n",
    "    return arg"
   ]
  },
  {
   "cell_type": "code",
   "execution_count": 23,
   "metadata": {},
   "outputs": [],
   "source": [
    "import pandas as pd\n",
    "# pattern files , which offer the preposition for each arguments\n",
    "prep=pd.read_excel(\"dwd templates for json (version 1) (1).xlsx\",header=None,engine='openpyxl')"
   ]
  },
  {
   "cell_type": "code",
   "execution_count": 31,
   "metadata": {},
   "outputs": [],
   "source": [
    "def remove_arg(pd): # original format  with A2 , format to with\n",
    "    pd[1]=pd[1].split()[0]\n",
    "    return pd"
   ]
  },
  {
   "cell_type": "code",
   "execution_count": 22,
   "metadata": {},
   "outputs": [
    {
     "data": {
      "text/html": [
       "<div>\n",
       "<style scoped>\n",
       "    .dataframe tbody tr th:only-of-type {\n",
       "        vertical-align: middle;\n",
       "    }\n",
       "\n",
       "    .dataframe tbody tr th {\n",
       "        vertical-align: top;\n",
       "    }\n",
       "\n",
       "    .dataframe thead th {\n",
       "        text-align: right;\n",
       "    }\n",
       "</style>\n",
       "<table border=\"1\" class=\"dataframe\">\n",
       "  <thead>\n",
       "    <tr style=\"text-align: right;\">\n",
       "      <th></th>\n",
       "      <th>0</th>\n",
       "      <th>1</th>\n",
       "    </tr>\n",
       "  </thead>\n",
       "  <tbody>\n",
       "    <tr>\n",
       "      <th>0</th>\n",
       "      <td>A1_com</td>\n",
       "      <td>with</td>\n",
       "    </tr>\n",
       "    <tr>\n",
       "      <th>1</th>\n",
       "      <td>A1_loc_path</td>\n",
       "      <td>preposition</td>\n",
       "    </tr>\n",
       "    <tr>\n",
       "      <th>2</th>\n",
       "      <td>A1_loc_direction</td>\n",
       "      <td>preposition</td>\n",
       "    </tr>\n",
       "    <tr>\n",
       "      <th>3</th>\n",
       "      <td>A2_mnr</td>\n",
       "      <td>with</td>\n",
       "    </tr>\n",
       "    <tr>\n",
       "      <th>4</th>\n",
       "      <td>AM_loc</td>\n",
       "      <td>at</td>\n",
       "    </tr>\n",
       "  </tbody>\n",
       "</table>\n",
       "</div>"
      ],
      "text/plain": [
       "                  0            1\n",
       "0            A1_com         with\n",
       "1       A1_loc_path  preposition\n",
       "2  A1_loc_direction  preposition\n",
       "3            A2_mnr        with \n",
       "4            AM_loc           at"
      ]
     },
     "execution_count": 22,
     "metadata": {},
     "output_type": "execute_result"
    }
   ],
   "source": [
    "prep.head() # look the first sevreral rows"
   ]
  },
  {
   "cell_type": "code",
   "execution_count": 32,
   "metadata": {},
   "outputs": [],
   "source": [
    "new_prep=prep.apply(remove_arg,axis=1)# apply the function to each row"
   ]
  },
  {
   "cell_type": "code",
   "execution_count": 38,
   "metadata": {},
   "outputs": [],
   "source": [
    "dict_prep=dict(zip(new_prep.iloc[:,0],new_prep.iloc[:,1]))  # convert the argument and the corresponding preposition to a dict"
   ]
  },
  {
   "cell_type": "code",
   "execution_count": 4,
   "metadata": {},
   "outputs": [
    {
     "ename": "NameError",
     "evalue": "name 'pd' is not defined",
     "output_type": "error",
     "traceback": [
      "\u001b[1;31m---------------------------------------------------------------------------\u001b[0m",
      "\u001b[1;31mNameError\u001b[0m                                 Traceback (most recent call last)",
      "\u001b[1;32m~\\AppData\\Local\\Temp\\ipykernel_21156\\2094807372.py\u001b[0m in \u001b[0;36m<module>\u001b[1;34m\u001b[0m\n\u001b[0;32m      1\u001b[0m \u001b[0mcount\u001b[0m\u001b[1;33m=\u001b[0m\u001b[1;36m0\u001b[0m \u001b[1;31m# id for the rows\u001b[0m\u001b[1;33m\u001b[0m\u001b[1;33m\u001b[0m\u001b[0m\n\u001b[0;32m      2\u001b[0m \u001b[0mevents\u001b[0m\u001b[1;33m=\u001b[0m\u001b[0mparsed_j\u001b[0m\u001b[1;33m[\u001b[0m\u001b[1;34m'events'\u001b[0m\u001b[1;33m]\u001b[0m \u001b[1;31m# from the json file get the events\u001b[0m\u001b[1;33m\u001b[0m\u001b[1;33m\u001b[0m\u001b[0m\n\u001b[1;32m----> 3\u001b[1;33m \u001b[0mdf\u001b[0m\u001b[1;33m=\u001b[0m\u001b[0mpd\u001b[0m\u001b[1;33m.\u001b[0m\u001b[0mDataFrame\u001b[0m\u001b[1;33m(\u001b[0m\u001b[0mcolumns\u001b[0m\u001b[1;33m=\u001b[0m\u001b[1;33m(\u001b[0m\u001b[1;34m'qnode_id'\u001b[0m\u001b[1;33m,\u001b[0m\u001b[1;34m'event_type'\u001b[0m\u001b[1;33m,\u001b[0m\u001b[1;34m'template'\u001b[0m\u001b[1;33m,\u001b[0m\u001b[1;34m'left_arguments'\u001b[0m\u001b[1;33m)\u001b[0m\u001b[1;33m)\u001b[0m  \u001b[1;31m# create a bew dataframe for creating the csv\u001b[0m\u001b[1;33m\u001b[0m\u001b[1;33m\u001b[0m\u001b[0m\n\u001b[0m\u001b[0;32m      4\u001b[0m \u001b[1;32mfor\u001b[0m \u001b[0mqnode\u001b[0m\u001b[1;33m,\u001b[0m\u001b[0mevent\u001b[0m \u001b[1;32min\u001b[0m \u001b[0mevents\u001b[0m\u001b[1;33m.\u001b[0m\u001b[0mitems\u001b[0m\u001b[1;33m(\u001b[0m\u001b[1;33m)\u001b[0m\u001b[1;33m:\u001b[0m\u001b[1;31m# iterate the events\u001b[0m\u001b[1;33m\u001b[0m\u001b[1;33m\u001b[0m\u001b[0m\n\u001b[0;32m      5\u001b[0m     \u001b[0mmarked\u001b[0m\u001b[1;33m=\u001b[0m\u001b[1;34m''\u001b[0m\u001b[1;33m\u001b[0m\u001b[1;33m\u001b[0m\u001b[0m\n",
      "\u001b[1;31mNameError\u001b[0m: name 'pd' is not defined"
     ]
    }
   ],
   "source": [
    "count=0 # id for the rows\n",
    "events=parsed_j['events'] # from the json file get the events\n",
    "df=pd.DataFrame(columns=('qnode_id','event_type','template','left_arguments'))  # create a bew dataframe for creating the csv\n",
    "for qnode,event in events.items():# iterate the events\n",
    "    marked=''\n",
    "    template=''\n",
    "    # print(qnode,event['name'],':',end='')\n",
    "\n",
    "    event_type=event['name']\n",
    "    arguments=event['arguments']\n",
    "    left_args=[]\n",
    "    verbs=event['pb_roleset'].split('.')[0] if 'pb_roleset' in event.keys() else event['name']  # determine the verb for each events\n",
    "    if len(arguments)==1:  # for events just have one arguments\n",
    "        template= f\"<{get_arg_name(arguments[0]['name'])}> {verbs}\" \n",
    "    else:# for others, just look up the prepositions and concatenate with the argument name\n",
    "        template=''\n",
    "        if arguments[1]['name'] in dict_prep :\n",
    "            arg1=f\"{dict_prep[arguments[1]['name']]} <{get_arg_name(arguments[1]['name'])}>\"\n",
    "        elif arguments[1]['short_name'] in dict_prep:\n",
    "            arg1=f\"{dict_prep[arguments[1]['short_name']]} <{get_arg_name(arguments[1]['name'])}>\"\n",
    "        else:\n",
    "            arg1=f\"<{get_arg_name(arguments[1]['name'])}>\"\n",
    "        template+=f\"<{get_arg_name(arguments[0]['name'])}> {verbs} {arg1}\"\n",
    "        for i, argument in enumerate(arguments[2:]):\n",
    "            if argument['name'] in dict_prep:\n",
    "                template+= f\" {dict_prep[argument['name']]} <{get_arg_name(argument['name'])}>\"\n",
    "            elif argument['short_name'] in dict_prep:\n",
    "                  template+=f\" {dict_prep[argument['short_name']]} <{get_arg_name(argument['name'])}>\"\n",
    "            else:\n",
    "                left_args.append(argument['name'])\n",
    "            if argument['short_name'].startswith('A5'):  # for some reasons, to mark the events has more than 5 arguments \n",
    "                marked='****'\n",
    "  \n",
    "    df.loc[count]={'qnode_id':qnode,'event_type':event_type,'template':template+marked,\"left_arguments\":'/'.join(left_args)} # insert the row to the dataframe\n",
    "\n",
    "    # print(\"*\"*22)\n",
    "    count+=1\n",
    "   "
   ]
  },
  {
   "cell_type": "code",
   "execution_count": 59,
   "metadata": {},
   "outputs": [
    {
     "data": {
      "text/html": [
       "<div>\n",
       "<style scoped>\n",
       "    .dataframe tbody tr th:only-of-type {\n",
       "        vertical-align: middle;\n",
       "    }\n",
       "\n",
       "    .dataframe tbody tr th {\n",
       "        vertical-align: top;\n",
       "    }\n",
       "\n",
       "    .dataframe thead th {\n",
       "        text-align: right;\n",
       "    }\n",
       "</style>\n",
       "<table border=\"1\" class=\"dataframe\">\n",
       "  <thead>\n",
       "    <tr style=\"text-align: right;\">\n",
       "      <th></th>\n",
       "      <th>qnode_id</th>\n",
       "      <th>event_type</th>\n",
       "      <th>template</th>\n",
       "      <th>left_arguments</th>\n",
       "    </tr>\n",
       "  </thead>\n",
       "  <tbody>\n",
       "    <tr>\n",
       "      <th>0</th>\n",
       "      <td>DWD_Q7216866</td>\n",
       "      <td>post</td>\n",
       "      <td>&lt;A0_transmitter&gt; post &lt;A1_message&gt; to &lt;A2_audi...</td>\n",
       "      <td></td>\n",
       "    </tr>\n",
       "    <tr>\n",
       "      <th>1</th>\n",
       "      <td>DWD_Q56119332</td>\n",
       "      <td>tweet</td>\n",
       "      <td>&lt;A0_transmitter&gt; tweet &lt;A1_message&gt; to &lt;A2_aud...</td>\n",
       "      <td></td>\n",
       "    </tr>\n",
       "    <tr>\n",
       "      <th>2</th>\n",
       "      <td>DWD_Q34394</td>\n",
       "      <td>belief</td>\n",
       "      <td>&lt;A0_believer&gt; believe &lt;A1_believed&gt; PREPOSITIO...</td>\n",
       "      <td></td>\n",
       "    </tr>\n",
       "    <tr>\n",
       "      <th>3</th>\n",
       "      <td>DWD_Q190084</td>\n",
       "      <td>hoax</td>\n",
       "      <td>&lt;A0_hoaxer&gt; hoax &lt;A1_target&gt; (PREPOSITION) &lt;A2...</td>\n",
       "      <td></td>\n",
       "    </tr>\n",
       "    <tr>\n",
       "      <th>4</th>\n",
       "      <td>DWD_Q34302</td>\n",
       "      <td>doubt</td>\n",
       "      <td>&lt;A0_disbeliever&gt; doubt &lt;A1_disbelief&gt;</td>\n",
       "      <td></td>\n",
       "    </tr>\n",
       "  </tbody>\n",
       "</table>\n",
       "</div>"
      ],
      "text/plain": [
       "        qnode_id event_type  \\\n",
       "0   DWD_Q7216866       post   \n",
       "1  DWD_Q56119332      tweet   \n",
       "2     DWD_Q34394     belief   \n",
       "3    DWD_Q190084       hoax   \n",
       "4     DWD_Q34302      doubt   \n",
       "\n",
       "                                            template left_arguments  \n",
       "0  <A0_transmitter> post <A1_message> to <A2_audi...                 \n",
       "1  <A0_transmitter> tweet <A1_message> to <A2_aud...                 \n",
       "2  <A0_believer> believe <A1_believed> PREPOSITIO...                 \n",
       "3  <A0_hoaxer> hoax <A1_target> (PREPOSITION) <A2...                 \n",
       "4              <A0_disbeliever> doubt <A1_disbelief>                 "
      ]
     },
     "execution_count": 59,
     "metadata": {},
     "output_type": "execute_result"
    }
   ],
   "source": [
    "df.head()# peek the dataframe"
   ]
  },
  {
   "cell_type": "code",
   "execution_count": 72,
   "metadata": {},
   "outputs": [],
   "source": [
    "df.to_csv('template_info.csv')  # save as csv"
   ]
  },
  {
   "cell_type": "code",
   "execution_count": 5,
   "metadata": {},
   "outputs": [],
   "source": [
    "from collections import defaultdict\n",
    "count=0\n",
    "passive=0\n",
    "passive_name=[]\n",
    "events=parsed_j['events'] # from the json file get the events\n",
    "AM_dict=defaultdict(int)\n",
    "num_arguments=defaultdict(int)\n",
    "for qnode,event in events.items():# iterate the events\n",
    "\n",
    "    event_type=event['name']\n",
    "    arguments=event['arguments']\n",
    "    if arguments[0]['name'].startswith('A1'):\n",
    "        passive+=1\n",
    "        passive_name.append(event_type)\n",
    "    count+=1\n",
    "    num_arguments[len([args for args in arguments if not args['short_name'].startswith('AM')])]+=1\n",
    "    for i,j in enumerate(arguments):\n",
    "        if j['short_name'].startswith('AM'):\n",
    "            AM_dict[j['name']]+=1\n",
    "\n"
   ]
  },
  {
   "cell_type": "code",
   "execution_count": 6,
   "metadata": {},
   "outputs": [
    {
     "name": "stdout",
     "output_type": "stream",
     "text": [
      "scarcity\n",
      "disease_outbreak\n",
      "conflagration\n",
      "merger\n",
      "mutation\n",
      "natural_causes\n",
      "death\n",
      "disease\n",
      "symptom\n",
      "health_problem\n",
      "abdominal_distention\n",
      "abdominal_exercise\n",
      "abdominal_symptom\n",
      "acarodermatitis\n",
      "accidental_death\n",
      "acropustulosis\n",
      "actinomycosis\n",
      "adverse_event\n",
      "affair\n",
      "aftershock\n",
      "air_current\n",
      "air_current\n",
      "airflow\n",
      "airprox\n",
      "alcoholism\n",
      "animal_disease\n",
      "animalisation\n",
      "ankyloglossia\n",
      "annual_event\n",
      "anticyclone\n",
      "apparition\n",
      "approach\n",
      "arthropod_dermatitis\n",
      "associated_diseases\n",
      "asthenia\n",
      "astronomical_phenomenon\n",
      "astronomical_transit\n",
      "asymmetry\n",
      "atmospheric_phenomenon\n",
      "atrophy\n",
      "attenuation\n",
      "avalanche\n",
      "backpacking\n",
      "bacterial_myositis\n",
      "banking_crisis\n",
      "beginning\n",
      "binge-eating_disorder\n",
      "biogeochemical_process\n",
      "blizzard\n",
      "blood_flow\n",
      "bond\n",
      "budding\n",
      "bushfire\n",
      "cardiac_fibrillation\n",
      "carnaval_parade\n",
      "cavalcade\n",
      "cell_death\n",
      "chance\n",
      "charity_event\n",
      "chills\n",
      "circulatory_collapse\n",
      "clear-air_turbulence\n",
      "cloudburst\n",
      "cognitive_disorder\n",
      "coincidence\n",
      "cold_wave\n",
      "coma\n",
      "come\n",
      "concretization\n",
      "condition\n",
      "contracted_pupil\n",
      "cool\n",
      "craniofacial_disease\n",
      "crisis\n",
      "crosswind\n",
      "current\n",
      "current\n",
      "cyclic_process\n",
      "cyclone\n",
      "decompression_illness\n",
      "dedifferentiation\n",
      "default\n",
      "default\n",
      "default\n",
      "deprecation\n",
      "depreciation\n",
      "dermatozoonosis\n",
      "descent\n",
      "development\n",
      "developmental_process\n",
      "digestive_sign\n",
      "dilated_pupil\n",
      "disaster\n",
      "disestablishment\n",
      "disparity\n",
      "dive\n",
      "dust_devil\n",
      "dust_storm\n",
      "dying\n",
      "earthquake\n",
      "eating_disorder\n",
      "economic_crisis\n",
      "economic_loss\n",
      "eddy\n",
      "electric_current\n",
      "emergency\n",
      "emotional_state\n",
      "end\n",
      "endemic_disease\n",
      "endurance_sport\n",
      "engagement\n",
      "enuresis\n",
      "environmental_disaster\n",
      "epidemic\n",
      "epileptic_seizure\n",
      "event\n",
      "evolution\n",
      "excess\n",
      "extraction\n",
      "eye_disease\n",
      "eye_symptom\n",
      "fad\n",
      "fall\n",
      "fasciculation\n",
      "fault\n",
      "fever\n",
      "fire_whirl\n",
      "fizzle\n",
      "flame\n",
      "flash_flood\n",
      "flaw\n",
      "flicker\n",
      "flow\n",
      "flowering\n",
      "fluid_flow\n",
      "fluorescence\n",
      "focal_seizure\n",
      "food-related_disease\n",
      "foreshock\n",
      "fork\n",
      "free_fall\n",
      "gain\n",
      "gale\n",
      "general_symptom\n",
      "genetic_disease\n",
      "genodermatosis\n",
      "geyser\n",
      "hailstorm\n",
      "haze\n",
      "heart_arrhythmia\n",
      "heart_rate\n",
      "heat_illness\n",
      "heat_stroke\n",
      "heat_wave\n",
      "hematologic_disorder\n",
      "hematoma\n",
      "hereditary_disorder\n",
      "high_fever\n",
      "holiday\n",
      "host-pathogen_interaction\n",
      "hurricane\n",
      "hyperthermia\n",
      "hypnosis\n",
      "hypotension\n",
      "hypothetical_event\n",
      "hypoxia\n",
      "ice_storm\n",
      "immune_disorder\n",
      "immunodeficiency-related_disorder\n",
      "impact\n",
      "infectious_myositis\n",
      "intimacy\n",
      "intracranial_thrombosis\n",
      "jaundice\n",
      "jet_stream\n",
      "key_event\n",
      "kidney_disease\n",
      "landfall\n",
      "landslide\n",
      "leprosy\n",
      "lesion\n",
      "lip\n",
      "lying\n",
      "maculopathy\n",
      "maelstrom\n",
      "malaise\n",
      "malnutrition\n",
      "media_event\n",
      "menstrual_cycle\n",
      "mental_state\n",
      "mental_state\n",
      "metastasis\n",
      "meteor\n",
      "meteorological_phenomenon\n",
      "milestone\n",
      "miracle\n",
      "moisture\n",
      "monsoon\n",
      "mood_disorders\n",
      "mouth_disease\n",
      "mudslide\n",
      "multi-organism_process\n",
      "mycetoma\n",
      "myositis\n",
      "natural_phenomenon\n",
      "near_miss\n",
      "necrosis\n",
      "neoplasm\n",
      "neurobehavioral_manifestation\n",
      "neurological_symptom\n",
      "nocardiosis\n",
      "noise\n",
      "nudity\n",
      "nutrition_disorder\n",
      "obstructive_nephropathy\n",
      "occultation\n",
      "occupational_burnout\n",
      "ocean_current\n",
      "oil_spill\n",
      "optical_aberration\n",
      "organ-specific_disease\n",
      "orgasm\n",
      "out\n",
      "pandemic\n",
      "parade\n",
      "parasomnia\n",
      "perceptual_disorders\n",
      "personal_development\n",
      "phenomenon\n",
      "physical_state\n",
      "physiological_condition\n",
      "physiological_phenomena\n",
      "physiological_process\n",
      "political_symbolism\n",
      "polymyositis\n",
      "polyuria\n",
      "presence\n",
      "process\n",
      "progress\n",
      "proximity\n",
      "psychological_phenomenon\n",
      "psychological_process\n",
      "psychopathological_symptom\n",
      "psychopathological_syndrome\n",
      "psychosexual_disorder\n",
      "public_nudity\n",
      "pupil_disorder\n",
      "pupil_symptom\n",
      "pyomyositis\n",
      "rare_disease\n",
      "recession\n",
      "recklessness\n",
      "recurring_event\n",
      "religious_ceremony\n",
      "resonance\n",
      "retinal_degeneration\n",
      "retinal_disease\n",
      "rockslide\n",
      "round\n",
      "ruminal_tympany\n",
      "scientific_event\n",
      "screen_flicker\n",
      "season\n",
      "secondary_neoplasm\n",
      "seizure\n",
      "sexual_disorder\n",
      "shock\n",
      "shortage\n",
      "silliness\n",
      "simultaneity\n",
      "sirocco\n",
      "situation\n",
      "sleep_disorder\n",
      "sleepwalking\n",
      "slip\n",
      "software_bug\n",
      "solstice\n",
      "somatosensory_disorder\n",
      "spasm\n",
      "spontaneous_process\n",
      "squall\n",
      "stagnation\n",
      "state\n",
      "stomatognathic_disease\n",
      "stomatomycosis\n",
      "storm\n",
      "stroke\n",
      "substance-related_disorder\n",
      "suggestion\n",
      "suicide_crisis\n",
      "symbolism\n",
      "syndrome\n",
      "systemic_disease\n",
      "systemic_mycosis\n",
      "tachycardia\n",
      "takeoff\n",
      "tear_secretion\n",
      "thought_disorder\n",
      "thromboembolism\n",
      "tidal_wave\n",
      "tide\n",
      "tongue_disease\n",
      "tornado\n",
      "tragedy\n",
      "train_wreck\n",
      "tremor\n",
      "trend\n",
      "tropical_cyclone\n",
      "tsunami\n",
      "tuberculosis\n",
      "tumor\n",
      "turbulence\n",
      "tympanites\n",
      "unconsciousness\n",
      "unintended_consequences\n",
      "unnatural_death\n",
      "urinary_incontinence\n",
      "urological_symptom\n",
      "use_status\n",
      "vector-borne_disease\n",
      "venous_thrombosis\n",
      "ventricular_dysrhythmia\n",
      "ventricular_dyssynchrony\n",
      "ventricular_fibrillation\n",
      "vision_disorder\n",
      "visual_artifact\n",
      "volcanic_eruption\n",
      "volcanic_phenomenon\n",
      "vortex\n",
      "weather\n",
      "well\n",
      "whirlpool\n",
      "wildfire\n",
      "winter_storm\n",
      "yersiniosis\n",
      "yield\n",
      "zoonosis\n",
      "waiting\n",
      "drought\n"
     ]
    }
   ],
   "source": [
    "f\"the passive events is {(passive/count)*100:.2f} %\"\n",
    "f\"the passive events are :\"\n",
    "for i in passive_name:\n",
    "    print(i)"
   ]
  },
  {
   "cell_type": "code",
   "execution_count": 81,
   "metadata": {},
   "outputs": [
    {
     "name": "stdout",
     "output_type": "stream",
     "text": [
      "loc 4677\n",
      "mnr__manner 39\n",
      "dir_direction 10\n",
      "cau__cause 9\n",
      "loc_medium 9\n",
      "loc_Medium 6\n",
      "tmp_point_at_which_something_ends 5\n",
      "gol__goal 4\n",
      "dir__directional 3\n",
      "mnr_instrument 2\n",
      "loc_direction_or_location 2\n",
      "loc_location_of_meeting 2\n",
      "tmp_time_of_meeting 2\n",
      "com__comitative 1\n",
      "loc_domain_of_competition 1\n",
      "loc_direction 1\n",
      "dir_path_or_medium 1\n",
      "tmp_period_of_time_waited_through 1\n"
     ]
    }
   ],
   "source": [
    "for k,v in sorted(AM_dict.items(),key=lambda x:x[1],reverse=True):\n",
    "    print(k.lstrip('AM_'),v)"
   ]
  },
  {
   "cell_type": "code",
   "execution_count": 84,
   "metadata": {},
   "outputs": [
    {
     "name": "stdout",
     "output_type": "stream",
     "text": [
      "3 2061\n",
      "2 1550\n",
      "4 764\n",
      "5 184\n",
      "1 122\n",
      "6 25\n"
     ]
    }
   ],
   "source": [
    "\n",
    "for k,v in sorted(num_arguments.items(),key=lambda x:x[1],reverse=True):\n",
    "    print(k,v)"
   ]
  },
  {
   "cell_type": "code",
   "execution_count": 7,
   "metadata": {},
   "outputs": [],
   "source": [
    "import plotly.graph_objects as go\n",
    "import plotly.express as px"
   ]
  },
  {
   "cell_type": "code",
   "execution_count": 11,
   "metadata": {},
   "outputs": [],
   "source": [
    "def plot_graph(tdict, title,x_name,y_name):\n",
    "    # Create a figure we will add our chart to\n",
    "    fig = go.Figure()\n",
    "\n",
    "    # Add a bar chart to the figur\n",
    "    fig.add_trace(go.Bar(x = [i for i in tdict.keys()],                                # x-axis data\n",
    "                         y = [i for i in tdict.values()],                                # y-axis data\n",
    "                         text=[str(i) for i in tdict.values()],                               # Textual data displayed above each bar\n",
    "                         textposition='outside',                            # Location of 'text'\n",
    "                         orientation='v',                                   # We want veritcle bars, and 'h' would give us horizontal bars\n",
    "                        )\n",
    "                 )\n",
    "\n",
    "    fig.update_layout(title=f'<b>{title} Analysis</b>',                     # Title of figure/chart\n",
    "                      width = 1400,                                         # Width of figure\n",
    "                      height = 800,                                         # Height of figure\n",
    "                      xaxis_title=f\"<b>{x_name}</b>\",                          # x-axis label\n",
    "                      yaxis_title=f\"<b>{y_name}</b>\",    # y-axis label\n",
    "                      font=dict(family=\"Arial\",                             # dict. specifing font details\n",
    "                                size=16,\n",
    "                            )\n",
    "                     )\n",
    "\n",
    "    fig.show()          "
   ]
  },
  {
   "cell_type": "code",
   "execution_count": 12,
   "metadata": {},
   "outputs": [
    {
     "data": {
      "application/vnd.plotly.v1+json": {
       "config": {
        "plotlyServerURL": "https://plot.ly"
       },
       "data": [
        {
         "orientation": "v",
         "text": [
          "764",
          "2061",
          "1550",
          "122",
          "184",
          "25"
         ],
         "textposition": "outside",
         "type": "bar",
         "x": [
          4,
          3,
          2,
          1,
          5,
          6
         ],
         "y": [
          764,
          2061,
          1550,
          122,
          184,
          25
         ]
        }
       ],
       "layout": {
        "font": {
         "family": "Arial",
         "size": 16
        },
        "height": 800,
        "template": {
         "data": {
          "bar": [
           {
            "error_x": {
             "color": "#2a3f5f"
            },
            "error_y": {
             "color": "#2a3f5f"
            },
            "marker": {
             "line": {
              "color": "#E5ECF6",
              "width": 0.5
             },
             "pattern": {
              "fillmode": "overlay",
              "size": 10,
              "solidity": 0.2
             }
            },
            "type": "bar"
           }
          ],
          "barpolar": [
           {
            "marker": {
             "line": {
              "color": "#E5ECF6",
              "width": 0.5
             },
             "pattern": {
              "fillmode": "overlay",
              "size": 10,
              "solidity": 0.2
             }
            },
            "type": "barpolar"
           }
          ],
          "carpet": [
           {
            "aaxis": {
             "endlinecolor": "#2a3f5f",
             "gridcolor": "white",
             "linecolor": "white",
             "minorgridcolor": "white",
             "startlinecolor": "#2a3f5f"
            },
            "baxis": {
             "endlinecolor": "#2a3f5f",
             "gridcolor": "white",
             "linecolor": "white",
             "minorgridcolor": "white",
             "startlinecolor": "#2a3f5f"
            },
            "type": "carpet"
           }
          ],
          "choropleth": [
           {
            "colorbar": {
             "outlinewidth": 0,
             "ticks": ""
            },
            "type": "choropleth"
           }
          ],
          "contour": [
           {
            "colorbar": {
             "outlinewidth": 0,
             "ticks": ""
            },
            "colorscale": [
             [
              0,
              "#0d0887"
             ],
             [
              0.1111111111111111,
              "#46039f"
             ],
             [
              0.2222222222222222,
              "#7201a8"
             ],
             [
              0.3333333333333333,
              "#9c179e"
             ],
             [
              0.4444444444444444,
              "#bd3786"
             ],
             [
              0.5555555555555556,
              "#d8576b"
             ],
             [
              0.6666666666666666,
              "#ed7953"
             ],
             [
              0.7777777777777778,
              "#fb9f3a"
             ],
             [
              0.8888888888888888,
              "#fdca26"
             ],
             [
              1,
              "#f0f921"
             ]
            ],
            "type": "contour"
           }
          ],
          "contourcarpet": [
           {
            "colorbar": {
             "outlinewidth": 0,
             "ticks": ""
            },
            "type": "contourcarpet"
           }
          ],
          "heatmap": [
           {
            "colorbar": {
             "outlinewidth": 0,
             "ticks": ""
            },
            "colorscale": [
             [
              0,
              "#0d0887"
             ],
             [
              0.1111111111111111,
              "#46039f"
             ],
             [
              0.2222222222222222,
              "#7201a8"
             ],
             [
              0.3333333333333333,
              "#9c179e"
             ],
             [
              0.4444444444444444,
              "#bd3786"
             ],
             [
              0.5555555555555556,
              "#d8576b"
             ],
             [
              0.6666666666666666,
              "#ed7953"
             ],
             [
              0.7777777777777778,
              "#fb9f3a"
             ],
             [
              0.8888888888888888,
              "#fdca26"
             ],
             [
              1,
              "#f0f921"
             ]
            ],
            "type": "heatmap"
           }
          ],
          "heatmapgl": [
           {
            "colorbar": {
             "outlinewidth": 0,
             "ticks": ""
            },
            "colorscale": [
             [
              0,
              "#0d0887"
             ],
             [
              0.1111111111111111,
              "#46039f"
             ],
             [
              0.2222222222222222,
              "#7201a8"
             ],
             [
              0.3333333333333333,
              "#9c179e"
             ],
             [
              0.4444444444444444,
              "#bd3786"
             ],
             [
              0.5555555555555556,
              "#d8576b"
             ],
             [
              0.6666666666666666,
              "#ed7953"
             ],
             [
              0.7777777777777778,
              "#fb9f3a"
             ],
             [
              0.8888888888888888,
              "#fdca26"
             ],
             [
              1,
              "#f0f921"
             ]
            ],
            "type": "heatmapgl"
           }
          ],
          "histogram": [
           {
            "marker": {
             "pattern": {
              "fillmode": "overlay",
              "size": 10,
              "solidity": 0.2
             }
            },
            "type": "histogram"
           }
          ],
          "histogram2d": [
           {
            "colorbar": {
             "outlinewidth": 0,
             "ticks": ""
            },
            "colorscale": [
             [
              0,
              "#0d0887"
             ],
             [
              0.1111111111111111,
              "#46039f"
             ],
             [
              0.2222222222222222,
              "#7201a8"
             ],
             [
              0.3333333333333333,
              "#9c179e"
             ],
             [
              0.4444444444444444,
              "#bd3786"
             ],
             [
              0.5555555555555556,
              "#d8576b"
             ],
             [
              0.6666666666666666,
              "#ed7953"
             ],
             [
              0.7777777777777778,
              "#fb9f3a"
             ],
             [
              0.8888888888888888,
              "#fdca26"
             ],
             [
              1,
              "#f0f921"
             ]
            ],
            "type": "histogram2d"
           }
          ],
          "histogram2dcontour": [
           {
            "colorbar": {
             "outlinewidth": 0,
             "ticks": ""
            },
            "colorscale": [
             [
              0,
              "#0d0887"
             ],
             [
              0.1111111111111111,
              "#46039f"
             ],
             [
              0.2222222222222222,
              "#7201a8"
             ],
             [
              0.3333333333333333,
              "#9c179e"
             ],
             [
              0.4444444444444444,
              "#bd3786"
             ],
             [
              0.5555555555555556,
              "#d8576b"
             ],
             [
              0.6666666666666666,
              "#ed7953"
             ],
             [
              0.7777777777777778,
              "#fb9f3a"
             ],
             [
              0.8888888888888888,
              "#fdca26"
             ],
             [
              1,
              "#f0f921"
             ]
            ],
            "type": "histogram2dcontour"
           }
          ],
          "mesh3d": [
           {
            "colorbar": {
             "outlinewidth": 0,
             "ticks": ""
            },
            "type": "mesh3d"
           }
          ],
          "parcoords": [
           {
            "line": {
             "colorbar": {
              "outlinewidth": 0,
              "ticks": ""
             }
            },
            "type": "parcoords"
           }
          ],
          "pie": [
           {
            "automargin": true,
            "type": "pie"
           }
          ],
          "scatter": [
           {
            "fillpattern": {
             "fillmode": "overlay",
             "size": 10,
             "solidity": 0.2
            },
            "type": "scatter"
           }
          ],
          "scatter3d": [
           {
            "line": {
             "colorbar": {
              "outlinewidth": 0,
              "ticks": ""
             }
            },
            "marker": {
             "colorbar": {
              "outlinewidth": 0,
              "ticks": ""
             }
            },
            "type": "scatter3d"
           }
          ],
          "scattercarpet": [
           {
            "marker": {
             "colorbar": {
              "outlinewidth": 0,
              "ticks": ""
             }
            },
            "type": "scattercarpet"
           }
          ],
          "scattergeo": [
           {
            "marker": {
             "colorbar": {
              "outlinewidth": 0,
              "ticks": ""
             }
            },
            "type": "scattergeo"
           }
          ],
          "scattergl": [
           {
            "marker": {
             "colorbar": {
              "outlinewidth": 0,
              "ticks": ""
             }
            },
            "type": "scattergl"
           }
          ],
          "scattermapbox": [
           {
            "marker": {
             "colorbar": {
              "outlinewidth": 0,
              "ticks": ""
             }
            },
            "type": "scattermapbox"
           }
          ],
          "scatterpolar": [
           {
            "marker": {
             "colorbar": {
              "outlinewidth": 0,
              "ticks": ""
             }
            },
            "type": "scatterpolar"
           }
          ],
          "scatterpolargl": [
           {
            "marker": {
             "colorbar": {
              "outlinewidth": 0,
              "ticks": ""
             }
            },
            "type": "scatterpolargl"
           }
          ],
          "scatterternary": [
           {
            "marker": {
             "colorbar": {
              "outlinewidth": 0,
              "ticks": ""
             }
            },
            "type": "scatterternary"
           }
          ],
          "surface": [
           {
            "colorbar": {
             "outlinewidth": 0,
             "ticks": ""
            },
            "colorscale": [
             [
              0,
              "#0d0887"
             ],
             [
              0.1111111111111111,
              "#46039f"
             ],
             [
              0.2222222222222222,
              "#7201a8"
             ],
             [
              0.3333333333333333,
              "#9c179e"
             ],
             [
              0.4444444444444444,
              "#bd3786"
             ],
             [
              0.5555555555555556,
              "#d8576b"
             ],
             [
              0.6666666666666666,
              "#ed7953"
             ],
             [
              0.7777777777777778,
              "#fb9f3a"
             ],
             [
              0.8888888888888888,
              "#fdca26"
             ],
             [
              1,
              "#f0f921"
             ]
            ],
            "type": "surface"
           }
          ],
          "table": [
           {
            "cells": {
             "fill": {
              "color": "#EBF0F8"
             },
             "line": {
              "color": "white"
             }
            },
            "header": {
             "fill": {
              "color": "#C8D4E3"
             },
             "line": {
              "color": "white"
             }
            },
            "type": "table"
           }
          ]
         },
         "layout": {
          "annotationdefaults": {
           "arrowcolor": "#2a3f5f",
           "arrowhead": 0,
           "arrowwidth": 1
          },
          "autotypenumbers": "strict",
          "coloraxis": {
           "colorbar": {
            "outlinewidth": 0,
            "ticks": ""
           }
          },
          "colorscale": {
           "diverging": [
            [
             0,
             "#8e0152"
            ],
            [
             0.1,
             "#c51b7d"
            ],
            [
             0.2,
             "#de77ae"
            ],
            [
             0.3,
             "#f1b6da"
            ],
            [
             0.4,
             "#fde0ef"
            ],
            [
             0.5,
             "#f7f7f7"
            ],
            [
             0.6,
             "#e6f5d0"
            ],
            [
             0.7,
             "#b8e186"
            ],
            [
             0.8,
             "#7fbc41"
            ],
            [
             0.9,
             "#4d9221"
            ],
            [
             1,
             "#276419"
            ]
           ],
           "sequential": [
            [
             0,
             "#0d0887"
            ],
            [
             0.1111111111111111,
             "#46039f"
            ],
            [
             0.2222222222222222,
             "#7201a8"
            ],
            [
             0.3333333333333333,
             "#9c179e"
            ],
            [
             0.4444444444444444,
             "#bd3786"
            ],
            [
             0.5555555555555556,
             "#d8576b"
            ],
            [
             0.6666666666666666,
             "#ed7953"
            ],
            [
             0.7777777777777778,
             "#fb9f3a"
            ],
            [
             0.8888888888888888,
             "#fdca26"
            ],
            [
             1,
             "#f0f921"
            ]
           ],
           "sequentialminus": [
            [
             0,
             "#0d0887"
            ],
            [
             0.1111111111111111,
             "#46039f"
            ],
            [
             0.2222222222222222,
             "#7201a8"
            ],
            [
             0.3333333333333333,
             "#9c179e"
            ],
            [
             0.4444444444444444,
             "#bd3786"
            ],
            [
             0.5555555555555556,
             "#d8576b"
            ],
            [
             0.6666666666666666,
             "#ed7953"
            ],
            [
             0.7777777777777778,
             "#fb9f3a"
            ],
            [
             0.8888888888888888,
             "#fdca26"
            ],
            [
             1,
             "#f0f921"
            ]
           ]
          },
          "colorway": [
           "#636efa",
           "#EF553B",
           "#00cc96",
           "#ab63fa",
           "#FFA15A",
           "#19d3f3",
           "#FF6692",
           "#B6E880",
           "#FF97FF",
           "#FECB52"
          ],
          "font": {
           "color": "#2a3f5f"
          },
          "geo": {
           "bgcolor": "white",
           "lakecolor": "white",
           "landcolor": "#E5ECF6",
           "showlakes": true,
           "showland": true,
           "subunitcolor": "white"
          },
          "hoverlabel": {
           "align": "left"
          },
          "hovermode": "closest",
          "mapbox": {
           "style": "light"
          },
          "paper_bgcolor": "white",
          "plot_bgcolor": "#E5ECF6",
          "polar": {
           "angularaxis": {
            "gridcolor": "white",
            "linecolor": "white",
            "ticks": ""
           },
           "bgcolor": "#E5ECF6",
           "radialaxis": {
            "gridcolor": "white",
            "linecolor": "white",
            "ticks": ""
           }
          },
          "scene": {
           "xaxis": {
            "backgroundcolor": "#E5ECF6",
            "gridcolor": "white",
            "gridwidth": 2,
            "linecolor": "white",
            "showbackground": true,
            "ticks": "",
            "zerolinecolor": "white"
           },
           "yaxis": {
            "backgroundcolor": "#E5ECF6",
            "gridcolor": "white",
            "gridwidth": 2,
            "linecolor": "white",
            "showbackground": true,
            "ticks": "",
            "zerolinecolor": "white"
           },
           "zaxis": {
            "backgroundcolor": "#E5ECF6",
            "gridcolor": "white",
            "gridwidth": 2,
            "linecolor": "white",
            "showbackground": true,
            "ticks": "",
            "zerolinecolor": "white"
           }
          },
          "shapedefaults": {
           "line": {
            "color": "#2a3f5f"
           }
          },
          "ternary": {
           "aaxis": {
            "gridcolor": "white",
            "linecolor": "white",
            "ticks": ""
           },
           "baxis": {
            "gridcolor": "white",
            "linecolor": "white",
            "ticks": ""
           },
           "bgcolor": "#E5ECF6",
           "caxis": {
            "gridcolor": "white",
            "linecolor": "white",
            "ticks": ""
           }
          },
          "title": {
           "x": 0.05
          },
          "xaxis": {
           "automargin": true,
           "gridcolor": "white",
           "linecolor": "white",
           "ticks": "",
           "title": {
            "standoff": 15
           },
           "zerolinecolor": "white",
           "zerolinewidth": 2
          },
          "yaxis": {
           "automargin": true,
           "gridcolor": "white",
           "linecolor": "white",
           "ticks": "",
           "title": {
            "standoff": 15
           },
           "zerolinecolor": "white",
           "zerolinewidth": 2
          }
         }
        },
        "title": {
         "text": "<b>distribution of the umber of arguments for each events Analysis</b>"
        },
        "width": 1400,
        "xaxis": {
         "title": {
          "text": "<b>number of arguments</b>"
         }
        },
        "yaxis": {
         "title": {
          "text": "<b>number of events</b>"
         }
        }
       }
      }
     },
     "metadata": {},
     "output_type": "display_data"
    }
   ],
   "source": [
    "plot_graph(num_arguments,'distribution of the umber of arguments for each events','number of arguments','number of events')"
   ]
  },
  {
   "cell_type": "code",
   "execution_count": 13,
   "metadata": {},
   "outputs": [
    {
     "data": {
      "application/vnd.plotly.v1+json": {
       "config": {
        "plotlyServerURL": "https://plot.ly"
       },
       "data": [
        {
         "orientation": "v",
         "text": [
          "4677",
          "39",
          "4",
          "1",
          "9",
          "3",
          "6",
          "2",
          "10",
          "2",
          "9",
          "5",
          "2",
          "2",
          "1",
          "1",
          "1",
          "1"
         ],
         "textposition": "outside",
         "type": "bar",
         "x": [
          "AM_loc",
          "AM_mnr__manner",
          "AM_gol__goal",
          "AM_com__comitative",
          "AM_cau__cause",
          "AM_dir__directional",
          "AM_loc_Medium",
          "AM_mnr_instrument",
          "AM_dir_direction",
          "AM_loc_direction_or_location",
          "AM_loc_medium",
          "AM_tmp_point_at_which_something_ends",
          "AM_loc_location_of_meeting",
          "AM_tmp_time_of_meeting",
          "AM_loc_domain_of_competition",
          "AM_loc_direction",
          "AM_dir_path_or_medium",
          "AM_tmp_period_of_time_waited_through"
         ],
         "y": [
          4677,
          39,
          4,
          1,
          9,
          3,
          6,
          2,
          10,
          2,
          9,
          5,
          2,
          2,
          1,
          1,
          1,
          1
         ]
        }
       ],
       "layout": {
        "font": {
         "family": "Arial",
         "size": 16
        },
        "height": 800,
        "template": {
         "data": {
          "bar": [
           {
            "error_x": {
             "color": "#2a3f5f"
            },
            "error_y": {
             "color": "#2a3f5f"
            },
            "marker": {
             "line": {
              "color": "#E5ECF6",
              "width": 0.5
             },
             "pattern": {
              "fillmode": "overlay",
              "size": 10,
              "solidity": 0.2
             }
            },
            "type": "bar"
           }
          ],
          "barpolar": [
           {
            "marker": {
             "line": {
              "color": "#E5ECF6",
              "width": 0.5
             },
             "pattern": {
              "fillmode": "overlay",
              "size": 10,
              "solidity": 0.2
             }
            },
            "type": "barpolar"
           }
          ],
          "carpet": [
           {
            "aaxis": {
             "endlinecolor": "#2a3f5f",
             "gridcolor": "white",
             "linecolor": "white",
             "minorgridcolor": "white",
             "startlinecolor": "#2a3f5f"
            },
            "baxis": {
             "endlinecolor": "#2a3f5f",
             "gridcolor": "white",
             "linecolor": "white",
             "minorgridcolor": "white",
             "startlinecolor": "#2a3f5f"
            },
            "type": "carpet"
           }
          ],
          "choropleth": [
           {
            "colorbar": {
             "outlinewidth": 0,
             "ticks": ""
            },
            "type": "choropleth"
           }
          ],
          "contour": [
           {
            "colorbar": {
             "outlinewidth": 0,
             "ticks": ""
            },
            "colorscale": [
             [
              0,
              "#0d0887"
             ],
             [
              0.1111111111111111,
              "#46039f"
             ],
             [
              0.2222222222222222,
              "#7201a8"
             ],
             [
              0.3333333333333333,
              "#9c179e"
             ],
             [
              0.4444444444444444,
              "#bd3786"
             ],
             [
              0.5555555555555556,
              "#d8576b"
             ],
             [
              0.6666666666666666,
              "#ed7953"
             ],
             [
              0.7777777777777778,
              "#fb9f3a"
             ],
             [
              0.8888888888888888,
              "#fdca26"
             ],
             [
              1,
              "#f0f921"
             ]
            ],
            "type": "contour"
           }
          ],
          "contourcarpet": [
           {
            "colorbar": {
             "outlinewidth": 0,
             "ticks": ""
            },
            "type": "contourcarpet"
           }
          ],
          "heatmap": [
           {
            "colorbar": {
             "outlinewidth": 0,
             "ticks": ""
            },
            "colorscale": [
             [
              0,
              "#0d0887"
             ],
             [
              0.1111111111111111,
              "#46039f"
             ],
             [
              0.2222222222222222,
              "#7201a8"
             ],
             [
              0.3333333333333333,
              "#9c179e"
             ],
             [
              0.4444444444444444,
              "#bd3786"
             ],
             [
              0.5555555555555556,
              "#d8576b"
             ],
             [
              0.6666666666666666,
              "#ed7953"
             ],
             [
              0.7777777777777778,
              "#fb9f3a"
             ],
             [
              0.8888888888888888,
              "#fdca26"
             ],
             [
              1,
              "#f0f921"
             ]
            ],
            "type": "heatmap"
           }
          ],
          "heatmapgl": [
           {
            "colorbar": {
             "outlinewidth": 0,
             "ticks": ""
            },
            "colorscale": [
             [
              0,
              "#0d0887"
             ],
             [
              0.1111111111111111,
              "#46039f"
             ],
             [
              0.2222222222222222,
              "#7201a8"
             ],
             [
              0.3333333333333333,
              "#9c179e"
             ],
             [
              0.4444444444444444,
              "#bd3786"
             ],
             [
              0.5555555555555556,
              "#d8576b"
             ],
             [
              0.6666666666666666,
              "#ed7953"
             ],
             [
              0.7777777777777778,
              "#fb9f3a"
             ],
             [
              0.8888888888888888,
              "#fdca26"
             ],
             [
              1,
              "#f0f921"
             ]
            ],
            "type": "heatmapgl"
           }
          ],
          "histogram": [
           {
            "marker": {
             "pattern": {
              "fillmode": "overlay",
              "size": 10,
              "solidity": 0.2
             }
            },
            "type": "histogram"
           }
          ],
          "histogram2d": [
           {
            "colorbar": {
             "outlinewidth": 0,
             "ticks": ""
            },
            "colorscale": [
             [
              0,
              "#0d0887"
             ],
             [
              0.1111111111111111,
              "#46039f"
             ],
             [
              0.2222222222222222,
              "#7201a8"
             ],
             [
              0.3333333333333333,
              "#9c179e"
             ],
             [
              0.4444444444444444,
              "#bd3786"
             ],
             [
              0.5555555555555556,
              "#d8576b"
             ],
             [
              0.6666666666666666,
              "#ed7953"
             ],
             [
              0.7777777777777778,
              "#fb9f3a"
             ],
             [
              0.8888888888888888,
              "#fdca26"
             ],
             [
              1,
              "#f0f921"
             ]
            ],
            "type": "histogram2d"
           }
          ],
          "histogram2dcontour": [
           {
            "colorbar": {
             "outlinewidth": 0,
             "ticks": ""
            },
            "colorscale": [
             [
              0,
              "#0d0887"
             ],
             [
              0.1111111111111111,
              "#46039f"
             ],
             [
              0.2222222222222222,
              "#7201a8"
             ],
             [
              0.3333333333333333,
              "#9c179e"
             ],
             [
              0.4444444444444444,
              "#bd3786"
             ],
             [
              0.5555555555555556,
              "#d8576b"
             ],
             [
              0.6666666666666666,
              "#ed7953"
             ],
             [
              0.7777777777777778,
              "#fb9f3a"
             ],
             [
              0.8888888888888888,
              "#fdca26"
             ],
             [
              1,
              "#f0f921"
             ]
            ],
            "type": "histogram2dcontour"
           }
          ],
          "mesh3d": [
           {
            "colorbar": {
             "outlinewidth": 0,
             "ticks": ""
            },
            "type": "mesh3d"
           }
          ],
          "parcoords": [
           {
            "line": {
             "colorbar": {
              "outlinewidth": 0,
              "ticks": ""
             }
            },
            "type": "parcoords"
           }
          ],
          "pie": [
           {
            "automargin": true,
            "type": "pie"
           }
          ],
          "scatter": [
           {
            "fillpattern": {
             "fillmode": "overlay",
             "size": 10,
             "solidity": 0.2
            },
            "type": "scatter"
           }
          ],
          "scatter3d": [
           {
            "line": {
             "colorbar": {
              "outlinewidth": 0,
              "ticks": ""
             }
            },
            "marker": {
             "colorbar": {
              "outlinewidth": 0,
              "ticks": ""
             }
            },
            "type": "scatter3d"
           }
          ],
          "scattercarpet": [
           {
            "marker": {
             "colorbar": {
              "outlinewidth": 0,
              "ticks": ""
             }
            },
            "type": "scattercarpet"
           }
          ],
          "scattergeo": [
           {
            "marker": {
             "colorbar": {
              "outlinewidth": 0,
              "ticks": ""
             }
            },
            "type": "scattergeo"
           }
          ],
          "scattergl": [
           {
            "marker": {
             "colorbar": {
              "outlinewidth": 0,
              "ticks": ""
             }
            },
            "type": "scattergl"
           }
          ],
          "scattermapbox": [
           {
            "marker": {
             "colorbar": {
              "outlinewidth": 0,
              "ticks": ""
             }
            },
            "type": "scattermapbox"
           }
          ],
          "scatterpolar": [
           {
            "marker": {
             "colorbar": {
              "outlinewidth": 0,
              "ticks": ""
             }
            },
            "type": "scatterpolar"
           }
          ],
          "scatterpolargl": [
           {
            "marker": {
             "colorbar": {
              "outlinewidth": 0,
              "ticks": ""
             }
            },
            "type": "scatterpolargl"
           }
          ],
          "scatterternary": [
           {
            "marker": {
             "colorbar": {
              "outlinewidth": 0,
              "ticks": ""
             }
            },
            "type": "scatterternary"
           }
          ],
          "surface": [
           {
            "colorbar": {
             "outlinewidth": 0,
             "ticks": ""
            },
            "colorscale": [
             [
              0,
              "#0d0887"
             ],
             [
              0.1111111111111111,
              "#46039f"
             ],
             [
              0.2222222222222222,
              "#7201a8"
             ],
             [
              0.3333333333333333,
              "#9c179e"
             ],
             [
              0.4444444444444444,
              "#bd3786"
             ],
             [
              0.5555555555555556,
              "#d8576b"
             ],
             [
              0.6666666666666666,
              "#ed7953"
             ],
             [
              0.7777777777777778,
              "#fb9f3a"
             ],
             [
              0.8888888888888888,
              "#fdca26"
             ],
             [
              1,
              "#f0f921"
             ]
            ],
            "type": "surface"
           }
          ],
          "table": [
           {
            "cells": {
             "fill": {
              "color": "#EBF0F8"
             },
             "line": {
              "color": "white"
             }
            },
            "header": {
             "fill": {
              "color": "#C8D4E3"
             },
             "line": {
              "color": "white"
             }
            },
            "type": "table"
           }
          ]
         },
         "layout": {
          "annotationdefaults": {
           "arrowcolor": "#2a3f5f",
           "arrowhead": 0,
           "arrowwidth": 1
          },
          "autotypenumbers": "strict",
          "coloraxis": {
           "colorbar": {
            "outlinewidth": 0,
            "ticks": ""
           }
          },
          "colorscale": {
           "diverging": [
            [
             0,
             "#8e0152"
            ],
            [
             0.1,
             "#c51b7d"
            ],
            [
             0.2,
             "#de77ae"
            ],
            [
             0.3,
             "#f1b6da"
            ],
            [
             0.4,
             "#fde0ef"
            ],
            [
             0.5,
             "#f7f7f7"
            ],
            [
             0.6,
             "#e6f5d0"
            ],
            [
             0.7,
             "#b8e186"
            ],
            [
             0.8,
             "#7fbc41"
            ],
            [
             0.9,
             "#4d9221"
            ],
            [
             1,
             "#276419"
            ]
           ],
           "sequential": [
            [
             0,
             "#0d0887"
            ],
            [
             0.1111111111111111,
             "#46039f"
            ],
            [
             0.2222222222222222,
             "#7201a8"
            ],
            [
             0.3333333333333333,
             "#9c179e"
            ],
            [
             0.4444444444444444,
             "#bd3786"
            ],
            [
             0.5555555555555556,
             "#d8576b"
            ],
            [
             0.6666666666666666,
             "#ed7953"
            ],
            [
             0.7777777777777778,
             "#fb9f3a"
            ],
            [
             0.8888888888888888,
             "#fdca26"
            ],
            [
             1,
             "#f0f921"
            ]
           ],
           "sequentialminus": [
            [
             0,
             "#0d0887"
            ],
            [
             0.1111111111111111,
             "#46039f"
            ],
            [
             0.2222222222222222,
             "#7201a8"
            ],
            [
             0.3333333333333333,
             "#9c179e"
            ],
            [
             0.4444444444444444,
             "#bd3786"
            ],
            [
             0.5555555555555556,
             "#d8576b"
            ],
            [
             0.6666666666666666,
             "#ed7953"
            ],
            [
             0.7777777777777778,
             "#fb9f3a"
            ],
            [
             0.8888888888888888,
             "#fdca26"
            ],
            [
             1,
             "#f0f921"
            ]
           ]
          },
          "colorway": [
           "#636efa",
           "#EF553B",
           "#00cc96",
           "#ab63fa",
           "#FFA15A",
           "#19d3f3",
           "#FF6692",
           "#B6E880",
           "#FF97FF",
           "#FECB52"
          ],
          "font": {
           "color": "#2a3f5f"
          },
          "geo": {
           "bgcolor": "white",
           "lakecolor": "white",
           "landcolor": "#E5ECF6",
           "showlakes": true,
           "showland": true,
           "subunitcolor": "white"
          },
          "hoverlabel": {
           "align": "left"
          },
          "hovermode": "closest",
          "mapbox": {
           "style": "light"
          },
          "paper_bgcolor": "white",
          "plot_bgcolor": "#E5ECF6",
          "polar": {
           "angularaxis": {
            "gridcolor": "white",
            "linecolor": "white",
            "ticks": ""
           },
           "bgcolor": "#E5ECF6",
           "radialaxis": {
            "gridcolor": "white",
            "linecolor": "white",
            "ticks": ""
           }
          },
          "scene": {
           "xaxis": {
            "backgroundcolor": "#E5ECF6",
            "gridcolor": "white",
            "gridwidth": 2,
            "linecolor": "white",
            "showbackground": true,
            "ticks": "",
            "zerolinecolor": "white"
           },
           "yaxis": {
            "backgroundcolor": "#E5ECF6",
            "gridcolor": "white",
            "gridwidth": 2,
            "linecolor": "white",
            "showbackground": true,
            "ticks": "",
            "zerolinecolor": "white"
           },
           "zaxis": {
            "backgroundcolor": "#E5ECF6",
            "gridcolor": "white",
            "gridwidth": 2,
            "linecolor": "white",
            "showbackground": true,
            "ticks": "",
            "zerolinecolor": "white"
           }
          },
          "shapedefaults": {
           "line": {
            "color": "#2a3f5f"
           }
          },
          "ternary": {
           "aaxis": {
            "gridcolor": "white",
            "linecolor": "white",
            "ticks": ""
           },
           "baxis": {
            "gridcolor": "white",
            "linecolor": "white",
            "ticks": ""
           },
           "bgcolor": "#E5ECF6",
           "caxis": {
            "gridcolor": "white",
            "linecolor": "white",
            "ticks": ""
           }
          },
          "title": {
           "x": 0.05
          },
          "xaxis": {
           "automargin": true,
           "gridcolor": "white",
           "linecolor": "white",
           "ticks": "",
           "title": {
            "standoff": 15
           },
           "zerolinecolor": "white",
           "zerolinewidth": 2
          },
          "yaxis": {
           "automargin": true,
           "gridcolor": "white",
           "linecolor": "white",
           "ticks": "",
           "title": {
            "standoff": 15
           },
           "zerolinecolor": "white",
           "zerolinewidth": 2
          }
         }
        },
        "title": {
         "text": "<b>distribution of the umber of non-core arguments Analysis</b>"
        },
        "width": 1400,
        "xaxis": {
         "title": {
          "text": "<b>type-of non-core arguments</b>"
         }
        },
        "yaxis": {
         "title": {
          "text": "<b>number of events</b>"
         }
        }
       }
      }
     },
     "metadata": {},
     "output_type": "display_data"
    }
   ],
   "source": [
    "plot_graph(AM_dict,'distribution of the umber of non-core arguments','type-of non-core arguments','number of events')"
   ]
  }
 ],
 "metadata": {
  "kernelspec": {
   "display_name": "Python 3",
   "language": "python",
   "name": "python3"
  },
  "language_info": {
   "codemirror_mode": {
    "name": "ipython",
    "version": 3
   },
   "file_extension": ".py",
   "mimetype": "text/x-python",
   "name": "python",
   "nbconvert_exporter": "python",
   "pygments_lexer": "ipython3",
   "version": "3.7.8 (tags/v3.7.8:4b47a5b6ba, Jun 28 2020, 08:53:46) [MSC v.1916 64 bit (AMD64)]"
  },
  "orig_nbformat": 4,
  "vscode": {
   "interpreter": {
    "hash": "2469a70536e4d2335a2ea8907942d0699c37342a371ac185bdb5b0aa6f073890"
   }
  }
 },
 "nbformat": 4,
 "nbformat_minor": 2
}
